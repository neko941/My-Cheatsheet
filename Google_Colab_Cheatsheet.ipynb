{
  "nbformat": 4,
  "nbformat_minor": 0,
  "metadata": {
    "colab": {
      "provenance": [],
      "collapsed_sections": [
        "zBwf5A5Wftc8"
      ],
      "machine_shape": "hm",
      "include_colab_link": true
    },
    "kernelspec": {
      "name": "python3",
      "display_name": "Python 3"
    },
    "accelerator": "GPU",
    "gpuClass": "standard",
    "widgets": {
      "application/vnd.jupyter.widget-state+json": {
        "69c730dc9b894075afbbfa3ca1c4d566": {
          "model_module": "@jupyter-widgets/controls",
          "model_name": "ButtonModel",
          "model_module_version": "1.5.0",
          "state": {
            "_dom_classes": [],
            "_model_module": "@jupyter-widgets/controls",
            "_model_module_version": "1.5.0",
            "_model_name": "ButtonModel",
            "_view_count": null,
            "_view_module": "@jupyter-widgets/controls",
            "_view_module_version": "1.5.0",
            "_view_name": "ButtonView",
            "button_style": "",
            "description": "Click Me!",
            "disabled": false,
            "icon": "",
            "layout": "IPY_MODEL_5da0e48ce1fb43d8869e98a247f2f084",
            "style": "IPY_MODEL_8e4c83563ee14ce5bc73ef3d53b39b8f",
            "tooltip": ""
          }
        },
        "5da0e48ce1fb43d8869e98a247f2f084": {
          "model_module": "@jupyter-widgets/base",
          "model_name": "LayoutModel",
          "model_module_version": "1.2.0",
          "state": {
            "_model_module": "@jupyter-widgets/base",
            "_model_module_version": "1.2.0",
            "_model_name": "LayoutModel",
            "_view_count": null,
            "_view_module": "@jupyter-widgets/base",
            "_view_module_version": "1.2.0",
            "_view_name": "LayoutView",
            "align_content": null,
            "align_items": null,
            "align_self": null,
            "border": null,
            "bottom": null,
            "display": null,
            "flex": null,
            "flex_flow": null,
            "grid_area": null,
            "grid_auto_columns": null,
            "grid_auto_flow": null,
            "grid_auto_rows": null,
            "grid_column": null,
            "grid_gap": null,
            "grid_row": null,
            "grid_template_areas": null,
            "grid_template_columns": null,
            "grid_template_rows": null,
            "height": null,
            "justify_content": null,
            "justify_items": null,
            "left": null,
            "margin": null,
            "max_height": null,
            "max_width": null,
            "min_height": null,
            "min_width": null,
            "object_fit": null,
            "object_position": null,
            "order": null,
            "overflow": null,
            "overflow_x": null,
            "overflow_y": null,
            "padding": null,
            "right": null,
            "top": null,
            "visibility": null,
            "width": null
          }
        },
        "8e4c83563ee14ce5bc73ef3d53b39b8f": {
          "model_module": "@jupyter-widgets/controls",
          "model_name": "ButtonStyleModel",
          "model_module_version": "1.5.0",
          "state": {
            "_model_module": "@jupyter-widgets/controls",
            "_model_module_version": "1.5.0",
            "_model_name": "ButtonStyleModel",
            "_view_count": null,
            "_view_module": "@jupyter-widgets/base",
            "_view_module_version": "1.2.0",
            "_view_name": "StyleView",
            "button_color": null,
            "font_weight": ""
          }
        },
        "9633c8a5f79946a2a7f1470f7b4dd585": {
          "model_module": "@jupyter-widgets/output",
          "model_name": "OutputModel",
          "model_module_version": "1.0.0",
          "state": {
            "_dom_classes": [],
            "_model_module": "@jupyter-widgets/output",
            "_model_module_version": "1.0.0",
            "_model_name": "OutputModel",
            "_view_count": null,
            "_view_module": "@jupyter-widgets/output",
            "_view_module_version": "1.0.0",
            "_view_name": "OutputView",
            "layout": "IPY_MODEL_bac5b40a2f1641379d988b45a9b84435",
            "msg_id": "",
            "outputs": [
              {
                "output_type": "stream",
                "name": "stdout",
                "text": [
                  "Button clicked.\n"
                ]
              },
              {
                "output_type": "stream",
                "name": "stdout",
                "text": [
                  "Button clicked.\n"
                ]
              },
              {
                "output_type": "stream",
                "name": "stdout",
                "text": [
                  "Button clicked.\n"
                ]
              }
            ]
          }
        },
        "bac5b40a2f1641379d988b45a9b84435": {
          "model_module": "@jupyter-widgets/base",
          "model_name": "LayoutModel",
          "model_module_version": "1.2.0",
          "state": {
            "_model_module": "@jupyter-widgets/base",
            "_model_module_version": "1.2.0",
            "_model_name": "LayoutModel",
            "_view_count": null,
            "_view_module": "@jupyter-widgets/base",
            "_view_module_version": "1.2.0",
            "_view_name": "LayoutView",
            "align_content": null,
            "align_items": null,
            "align_self": null,
            "border": null,
            "bottom": null,
            "display": null,
            "flex": null,
            "flex_flow": null,
            "grid_area": null,
            "grid_auto_columns": null,
            "grid_auto_flow": null,
            "grid_auto_rows": null,
            "grid_column": null,
            "grid_gap": null,
            "grid_row": null,
            "grid_template_areas": null,
            "grid_template_columns": null,
            "grid_template_rows": null,
            "height": null,
            "justify_content": null,
            "justify_items": null,
            "left": null,
            "margin": null,
            "max_height": null,
            "max_width": null,
            "min_height": null,
            "min_width": null,
            "object_fit": null,
            "object_position": null,
            "order": null,
            "overflow": null,
            "overflow_x": null,
            "overflow_y": null,
            "padding": null,
            "right": null,
            "top": null,
            "visibility": null,
            "width": null
          }
        },
        "bf75924076e242a5adfee69ceb1a4ef0": {
          "model_module": "@jupyter-widgets/controls",
          "model_name": "IntSliderModel",
          "model_module_version": "1.5.0",
          "state": {
            "_dom_classes": [],
            "_model_module": "@jupyter-widgets/controls",
            "_model_module_version": "1.5.0",
            "_model_name": "IntSliderModel",
            "_view_count": null,
            "_view_module": "@jupyter-widgets/controls",
            "_view_module_version": "1.5.0",
            "_view_name": "IntSliderView",
            "continuous_update": true,
            "description": "",
            "description_tooltip": null,
            "disabled": false,
            "layout": "IPY_MODEL_1b7bd006a93b4214becba78357a836ad",
            "max": 10,
            "min": 0,
            "orientation": "horizontal",
            "readout": true,
            "readout_format": "d",
            "step": 1,
            "style": "IPY_MODEL_21a10bc62fb54513a337f3998d67f07f",
            "value": 5
          }
        },
        "1b7bd006a93b4214becba78357a836ad": {
          "model_module": "@jupyter-widgets/base",
          "model_name": "LayoutModel",
          "model_module_version": "1.2.0",
          "state": {
            "_model_module": "@jupyter-widgets/base",
            "_model_module_version": "1.2.0",
            "_model_name": "LayoutModel",
            "_view_count": null,
            "_view_module": "@jupyter-widgets/base",
            "_view_module_version": "1.2.0",
            "_view_name": "LayoutView",
            "align_content": null,
            "align_items": null,
            "align_self": null,
            "border": null,
            "bottom": null,
            "display": null,
            "flex": null,
            "flex_flow": null,
            "grid_area": null,
            "grid_auto_columns": null,
            "grid_auto_flow": null,
            "grid_auto_rows": null,
            "grid_column": null,
            "grid_gap": null,
            "grid_row": null,
            "grid_template_areas": null,
            "grid_template_columns": null,
            "grid_template_rows": null,
            "height": null,
            "justify_content": null,
            "justify_items": null,
            "left": null,
            "margin": null,
            "max_height": null,
            "max_width": null,
            "min_height": null,
            "min_width": null,
            "object_fit": null,
            "object_position": null,
            "order": null,
            "overflow": null,
            "overflow_x": null,
            "overflow_y": null,
            "padding": null,
            "right": null,
            "top": null,
            "visibility": null,
            "width": null
          }
        },
        "21a10bc62fb54513a337f3998d67f07f": {
          "model_module": "@jupyter-widgets/controls",
          "model_name": "SliderStyleModel",
          "model_module_version": "1.5.0",
          "state": {
            "_model_module": "@jupyter-widgets/controls",
            "_model_module_version": "1.5.0",
            "_model_name": "SliderStyleModel",
            "_view_count": null,
            "_view_module": "@jupyter-widgets/base",
            "_view_module_version": "1.2.0",
            "_view_name": "StyleView",
            "description_width": "",
            "handle_color": null
          }
        }
      }
    }
  },
  "cells": [
    {
      "cell_type": "markdown",
      "metadata": {
        "id": "view-in-github",
        "colab_type": "text"
      },
      "source": [
        "<a href=\"https://colab.research.google.com/github/neko941/My-Cheatsheet/blob/main/Google_Colab_Cheatsheet.ipynb\" target=\"_parent\"><img src=\"https://colab.research.google.com/assets/colab-badge.svg\" alt=\"Open In Colab\"/></a>"
      ]
    },
    {
      "cell_type": "markdown",
      "metadata": {
        "id": "lxTFXZi41jYa"
      },
      "source": [
        "# `〄` Colab Information"
      ]
    },
    {
      "cell_type": "code",
      "source": [
        "#@title ### `※` Check Network Speed\n",
        "#@markdown ```!curl -s https://raw.githubusercontent.com/sivel/speedtest-cli/master/speedtest.py | python -```\n",
        "\n",
        "!curl -s https://raw.githubusercontent.com/sivel/speedtest-cli/master/speedtest.py | python -"
      ],
      "metadata": {
        "colab": {
          "base_uri": "https://localhost:8080/"
        },
        "cellView": "form",
        "id": "DIimJt0yxNR7",
        "outputId": "e11b706d-6444-4085-c925-086952c276c7"
      },
      "execution_count": null,
      "outputs": [
        {
          "output_type": "stream",
          "name": "stdout",
          "text": [
            "Retrieving speedtest.net configuration...\n",
            "Testing from Google Cloud (34.126.189.34)...\n",
            "Retrieving speedtest.net server list...\n",
            "Selecting best server based on ping...\n",
            "Hosted by Celcom Axiata (Petaling Jaya) [315.66 km]: 13.359 ms\n",
            "Testing download speed................................................................................\n",
            "Download: 1101.09 Mbit/s\n",
            "Testing upload speed......................................................................................................\n",
            "Upload: 744.70 Mbit/s\n"
          ]
        }
      ]
    },
    {
      "cell_type": "code",
      "source": [
        "#@title ### `※` Check IP\n",
        "#@markdown ```!curl -s http://checkip.amazonaws.com``` \n",
        "!curl -s http://checkip.amazonaws.com"
      ],
      "metadata": {
        "colab": {
          "base_uri": "https://localhost:8080/"
        },
        "cellView": "form",
        "id": "dAl0kSgpw8LB",
        "outputId": "99191327-a5ac-433e-c1df-3f150ee55507"
      },
      "execution_count": null,
      "outputs": [
        {
          "output_type": "stream",
          "name": "stdout",
          "text": [
            "34.126.189.34\n"
          ]
        }
      ]
    },
    {
      "cell_type": "code",
      "source": [
        "#@title ### `※` Check GPU\n",
        "#@markdown `!nvidia-smi`\n",
        "\n",
        "gpu_info = !nvidia-smi\n",
        "gpu_info = '\\n'.join(gpu_info)\n",
        "if gpu_info.find('failed') >= 0:\n",
        "  print('Not connected to a GPU')\n",
        "else:\n",
        "  print(gpu_info)"
      ],
      "metadata": {
        "colab": {
          "base_uri": "https://localhost:8080/"
        },
        "cellView": "form",
        "id": "o3Iyv30pwS2v",
        "outputId": "9fe9c4e5-df71-4ba7-d6be-2986a1138b99"
      },
      "execution_count": null,
      "outputs": [
        {
          "output_type": "stream",
          "name": "stdout",
          "text": [
            "Fri Jul  8 17:01:44 2022       \n",
            "+-----------------------------------------------------------------------------+\n",
            "| NVIDIA-SMI 460.32.03    Driver Version: 460.32.03    CUDA Version: 11.2     |\n",
            "|-------------------------------+----------------------+----------------------+\n",
            "| GPU  Name        Persistence-M| Bus-Id        Disp.A | Volatile Uncorr. ECC |\n",
            "| Fan  Temp  Perf  Pwr:Usage/Cap|         Memory-Usage | GPU-Util  Compute M. |\n",
            "|                               |                      |               MIG M. |\n",
            "|===============================+======================+======================|\n",
            "|   0  Tesla T4            Off  | 00000000:00:04.0 Off |                    0 |\n",
            "| N/A   42C    P8    10W /  70W |      0MiB / 15109MiB |      0%      Default |\n",
            "|                               |                      |                  N/A |\n",
            "+-------------------------------+----------------------+----------------------+\n",
            "                                                                               \n",
            "+-----------------------------------------------------------------------------+\n",
            "| Processes:                                                                  |\n",
            "|  GPU   GI   CI        PID   Type   Process name                  GPU Memory |\n",
            "|        ID   ID                                                   Usage      |\n",
            "|=============================================================================|\n",
            "|  No running processes found                                                 |\n",
            "+-----------------------------------------------------------------------------+\n"
          ]
        }
      ]
    },
    {
      "cell_type": "code",
      "source": [
        "#@title ### `※` Check High RAM\n",
        "from psutil import virtual_memory\n",
        "ram_gb = virtual_memory().total / 1e9\n",
        "print('Your runtime has {:.1f} gigabytes of available RAM\\n'.format(ram_gb))\n",
        "\n",
        "if ram_gb < 20:\n",
        "  print('Not using a high-RAM runtime')\n",
        "else:\n",
        "  print('You are using a high-RAM runtime!')"
      ],
      "metadata": {
        "colab": {
          "base_uri": "https://localhost:8080/"
        },
        "cellView": "form",
        "id": "IL91xGF0wzwy",
        "outputId": "dc0f01cd-9019-4de6-ff43-a51265a28939"
      },
      "execution_count": null,
      "outputs": [
        {
          "output_type": "stream",
          "name": "stdout",
          "text": [
            "Your runtime has 27.3 gigabytes of available RAM\n",
            "\n",
            "You are using a high-RAM runtime!\n"
          ]
        }
      ]
    },
    {
      "cell_type": "code",
      "source": [
        "#@title ### `※` Check Modle Version\n",
        "#@markdown 1. `!pip install importlib-metadata`\n",
        "#@markdown 2.  `import importlib_metadata`\n",
        "#@markdown 3. `_=[print(f'{dist.metadata[\"Name\"]}=={dist.version}') for dist in importlib_metadata.distributions()]`\n",
        "import sys\n",
        "if sys.version_info >= (3, 8):\n",
        "    from importlib import metadata as importlib_metadata\n",
        "else:\n",
        "    import importlib_metadata\n",
        "_=[print(f'{dist.metadata[\"Name\"]}=={dist.version}') for dist in importlib_metadata.distributions()]"
      ],
      "metadata": {
        "colab": {
          "base_uri": "https://localhost:8080/"
        },
        "cellView": "form",
        "id": "bOFA7L820k6B",
        "outputId": "e5509e2d-b487-4158-bf96-ed28059eb668"
      },
      "execution_count": null,
      "outputs": [
        {
          "output_type": "stream",
          "name": "stdout",
          "text": [
            "python-apt==0.0.0\n",
            "google-colab==1.0.0\n",
            "python-utils==3.3.3\n",
            "jupyter==1.0.0\n",
            "pydot-ng==2.0.0\n",
            "gdown==4.4.0\n",
            "plotnine==0.6.0\n",
            "google-cloud-core==1.0.3\n",
            "imbalanced-learn==0.8.1\n",
            "sortedcontainers==2.4.0\n",
            "humanize==0.5.1\n",
            "dask==2.12.0\n",
            "rpy2==3.4.5\n",
            "daft==0.0.4\n",
            "lightgbm==2.2.3\n",
            "Jinja2==2.11.3\n",
            "pycocotools==2.0.4\n",
            "sqlparse==0.4.2\n",
            "altair==4.2.0\n",
            "contextlib2==0.5.5\n",
            "pyzmq==23.1.0\n",
            "fastcore==1.4.4\n",
            "cymem==2.0.6\n",
            "torchvision==0.12.0+cu113\n",
            "Sphinx==1.8.6\n",
            "astunparse==1.6.3\n",
            "Babel==2.10.2\n",
            "pyparsing==3.0.9\n",
            "sklearn==0.0\n",
            "pooch==1.6.0\n",
            "nbconvert==5.6.1\n",
            "imagesize==1.3.0\n",
            "Keras-Preprocessing==1.1.2\n",
            "nbformat==5.4.0\n",
            "ephem==4.1.3\n",
            "Pillow==7.1.2\n",
            "et-xmlfile==1.1.0\n",
            "jupyter-client==5.3.5\n",
            "pyglet==1.5.0\n",
            "resampy==0.2.2\n",
            "intel-openmp==2022.1.0\n",
            "holidays==0.10.5.2\n",
            "parso==0.8.3\n",
            "graphviz==0.10.1\n",
            "tenacity==8.0.1\n",
            "html5lib==1.0.1\n",
            "panel==0.12.1\n",
            "langcodes==3.3.0\n",
            "earthengine-api==0.1.315\n",
            "spacy-loggers==1.0.2\n",
            "tensorboard-data-server==0.6.1\n",
            "pydot==1.3.0\n",
            "sphinxcontrib-websupport==1.2.4\n",
            "setuptools-git==1.2\n",
            "keras-vis==0.4.1\n",
            "korean-lunar-calendar==0.2.1\n",
            "tensorflow-probability==0.16.0\n",
            "typing_extensions==4.1.1\n",
            "LunarCalendar==0.0.9\n",
            "google-cloud-storage==1.18.1\n",
            "ipywidgets==7.7.0\n",
            "PyOpenGL==3.1.6\n",
            "bs4==0.0.1\n",
            "jaxlib==0.3.7+cuda11.cudnn805\n",
            "urllib3==1.24.3\n",
            "thinc==8.0.17\n",
            "threadpoolctl==3.1.0\n",
            "itsdangerous==1.1.0\n",
            "pyerfa==2.0.0.1\n",
            "pyasn1==0.4.8\n",
            "atomicwrites==1.4.0\n",
            "terminado==0.13.3\n",
            "msgpack==1.0.4\n",
            "widgetsnbextension==3.6.0\n",
            "jpeg4py==0.1.4\n",
            "tzlocal==1.5.1\n",
            "jupyter-core==4.10.0\n",
            "click==7.1.2\n",
            "vega-datasets==0.9.0\n",
            "multitasking==0.0.10\n",
            "descartes==1.1.0\n",
            "googledrivedownloader==0.4\n",
            "dill==0.3.5.1\n",
            "idna==2.10\n",
            "kaggle==1.5.12\n",
            "tabulate==0.8.9\n",
            "cftime==1.6.0\n",
            "wasabi==0.9.1\n",
            "distributed==1.25.3\n",
            "testpath==0.6.0\n",
            "pymystem3==0.2.0\n",
            "ptyprocess==0.7.0\n",
            "tensorflow-metadata==1.8.0\n",
            "PyYAML==3.13\n",
            "python-louvain==0.16\n",
            "requests-oauthlib==1.3.1\n",
            "lmdb==0.99\n",
            "cmdstanpy==0.9.5\n",
            "psycopg2==2.7.6.1\n",
            "Flask==1.1.4\n",
            "astropy==4.3.1\n",
            "xarray-einstats==0.2.2\n",
            "pyemd==0.5.1\n",
            "importlib-metadata==4.11.4\n",
            "python-dateutil==2.8.2\n",
            "opt-einsum==3.3.0\n",
            "httplib2shim==0.0.3\n",
            "osqp==0.6.2.post0\n",
            "backcall==0.2.0\n",
            "more-itertools==8.13.0\n",
            "blis==0.7.7\n",
            "HeapDict==1.0.1\n",
            "missingno==0.5.1\n",
            "nest-asyncio==1.5.5\n",
            "glob2==0.7\n",
            "autograd==1.4\n",
            "ideep4py==2.0.0.post3\n",
            "pyarrow==6.0.1\n",
            "gin-config==0.5.0\n",
            "fastprogress==1.0.2\n",
            "googleapis-common-protos==1.56.2\n",
            "cufflinks==0.17.3\n",
            "SQLAlchemy==1.4.37\n",
            "docopt==0.6.2\n",
            "gast==0.5.3\n",
            "gym==0.17.3\n",
            "py==1.11.0\n",
            "tensorboard==2.8.0\n",
            "regex==2022.6.2\n",
            "sympy==1.7.1\n",
            "pytest==3.6.4\n",
            "easydict==1.9\n",
            "xgboost==0.90\n",
            "fastdtw==0.3.4\n",
            "GDAL==2.2.2\n",
            "scipy==1.4.1\n",
            "psutil==5.4.8\n",
            "imutils==0.5.4\n",
            "traitlets==5.1.1\n",
            "torch==1.11.0+cu113\n",
            "palettable==3.3.0\n",
            "jedi==0.18.1\n",
            "okgrade==0.4.3\n",
            "music21==5.5.0\n",
            "rsa==4.8\n",
            "llvmlite==0.34.0\n",
            "termcolor==1.1.0\n",
            "datascience==0.10.6\n",
            "h5py==3.1.0\n",
            "greenlet==1.1.2\n",
            "chardet==3.0.4\n",
            "nibabel==3.0.2\n",
            "tornado==5.1.1\n",
            "PyWavelets==1.3.0\n",
            "absl-py==1.1.0\n",
            "cupy-cuda111==9.4.0\n",
            "webencodings==0.5.1\n",
            "decorator==4.4.2\n",
            "audioread==2.1.9\n",
            "spacy==3.3.1\n",
            "gensim==3.6.0\n",
            "tables==3.7.0\n",
            "feather-format==0.4.1\n",
            "appdirs==1.4.4\n",
            "tensorboard-plugin-wit==1.8.1\n",
            "python-chess==0.23.11\n",
            "google-auth-oauthlib==0.4.6\n",
            "atari-py==0.2.9\n",
            "preshed==3.0.6\n",
            "cachetools==4.2.4\n",
            "astor==0.8.1\n",
            "flatbuffers==2.0\n",
            "pandas-datareader==0.9.0\n",
            "wcwidth==0.2.5\n",
            "imageio==2.4.1\n",
            "oauth2client==4.1.3\n",
            "google-cloud-bigquery==1.21.0\n",
            "zict==2.2.0\n",
            "zipp==3.8.0\n",
            "pathy==0.6.1\n",
            "google==2.0.3\n",
            "google-api-core==1.31.6\n",
            "pluggy==0.7.1\n",
            "text-unidecode==1.3\n",
            "ipykernel==4.10.1\n",
            "typer==0.4.1\n",
            "mkl==2019.0\n",
            "simplegeneric==0.8.1\n",
            "hijri-converter==2.2.4\n",
            "ipython-sql==0.3.9\n",
            "grpcio==1.46.3\n",
            "numpy==1.21.6\n",
            "scs==3.2.0\n",
            "PyMeeus==0.5.11\n",
            "firebase-admin==4.4.0\n",
            "packaging==21.3\n",
            "colorlover==0.3.0\n",
            "statsmodels==0.10.2\n",
            "sphinxcontrib-serializinghtml==1.1.5\n",
            "gspread-dataframe==3.0.8\n",
            "opencv-contrib-python==4.1.2.30\n",
            "oauthlib==3.2.0\n",
            "argon2-cffi-bindings==21.2.0\n",
            "cycler==0.11.0\n",
            "google-auth==1.35.0\n",
            "pymc3==3.11.4\n",
            "scikit-learn==1.0.2\n",
            "tinycss2==1.1.1\n",
            "xarray==0.20.2\n",
            "plotly==5.5.0\n",
            "tensorflow-datasets==4.0.1\n",
            "google-cloud-language==1.2.0\n",
            "inflect==2.1.0\n",
            "fastai==2.6.3\n",
            "mistune==0.8.4\n",
            "tensorflow-estimator==2.8.0\n",
            "iniconfig==1.1.1\n",
            "beautifulsoup4==4.6.3\n",
            "defusedxml==0.7.1\n",
            "cvxopt==1.2.7\n",
            "jupyterlab-pygments==0.2.2\n",
            "tblib==1.7.0\n",
            "MarkupSafe==2.0.1\n",
            "alabaster==0.7.12\n",
            "param==1.12.1\n",
            "seaborn==0.11.2\n",
            "hyperopt==0.1.2\n",
            "attrs==21.4.0\n",
            "catalogue==2.0.7\n",
            "torchsummary==1.5.1\n",
            "multiprocess==0.70.13\n",
            "ipython-genutils==0.2.0\n",
            "spacy-legacy==3.0.9\n",
            "debugpy==1.0.0\n",
            "librosa==0.8.1\n",
            "community==1.0.0b1\n",
            "cffi==1.15.0\n",
            "CacheControl==0.12.11\n",
            "google-cloud-firestore==1.7.0\n",
            "semver==2.13.0\n",
            "Werkzeug==1.0.1\n",
            "mlxtend==0.14.0\n",
            "networkx==2.6.3\n",
            "editdistance==0.5.3\n",
            "pycparser==2.21\n",
            "pandocfilters==1.5.0\n",
            "coveralls==0.5\n",
            "kiwisolver==1.4.3\n",
            "six==1.15.0\n",
            "albumentations==0.1.12\n",
            "PyDrive==1.3.1\n",
            "libclang==14.0.1\n",
            "bleach==5.0.0\n",
            "Pygments==2.6.1\n",
            "matplotlib-venn==0.11.7\n",
            "nltk==3.7\n",
            "pydotplus==2.0.2\n",
            "cloudpickle==1.3.0\n",
            "google-cloud-datastore==1.8.0\n",
            "dopamine-rl==1.0.5\n",
            "QtPy==2.1.0\n",
            "Markdown==3.3.7\n",
            "xlwt==1.3.0\n",
            "pep517==0.12.0\n",
            "convertdate==2.4.0\n",
            "smart-open==5.2.1\n",
            "fastdownload==0.0.6\n",
            "moviepy==0.2.3.5\n",
            "tweepy==3.10.0\n",
            "future==0.16.0\n",
            "promise==2.3\n",
            "prometheus-client==0.14.1\n",
            "pathlib==1.0.1\n",
            "google-cloud-bigquery-storage==1.1.2\n",
            "jax==0.3.8\n",
            "jieba==0.42.1\n",
            "torchtext==0.12.0\n",
            "portpicker==1.3.9\n",
            "Theano-PyMC==1.1.2\n",
            "jupyter-console==5.2.0\n",
            "pydata-google-auth==1.4.0\n",
            "textblob==0.15.3\n",
            "tensorflow==2.8.2+zzzcolab20220527125636\n",
            "Shapely==1.8.2\n",
            "tqdm==4.64.0\n",
            "murmurhash==1.0.7\n",
            "lxml==4.2.6\n",
            "fastjsonschema==2.15.3\n",
            "wrapt==1.14.1\n",
            "keras==2.8.0\n",
            "ecos==2.0.10\n",
            "nbclient==0.6.6\n",
            "en-core-web-sm==3.3.0\n",
            "pandas==1.3.5\n",
            "fbprophet==0.7.1\n",
            "pandas-gbq==0.13.3\n",
            "SoundFile==0.10.3.post1\n",
            "joblib==1.1.0\n",
            "python-slugify==6.1.2\n",
            "docutils==0.17.1\n",
            "importlib-resources==5.7.1\n",
            "tomli==2.0.1\n",
            "pydantic==1.8.2\n",
            "protobuf==3.17.3\n",
            "cvxpy==1.0.31\n",
            "colorcet==3.0.0\n",
            "opencv-python==4.1.2.30\n",
            "fa2==0.3.5\n",
            "holoviews==1.14.9\n",
            "pysndfile==1.3.8\n",
            "pyct==0.4.8\n",
            "pyrsistent==0.18.1\n",
            "google-cloud-translate==1.5.0\n",
            "requests==2.23.0\n",
            "cmake==3.22.5\n",
            "xlrd==1.1.0\n",
            "patsy==0.5.2\n",
            "prompt-toolkit==1.0.18\n",
            "matplotlib-inline==0.1.3\n",
            "tensorflow-gcs-config==2.8.0\n",
            "arviz==0.12.1\n",
            "pip-tools==6.2.0\n",
            "typeguard==2.7.1\n",
            "prefetch-generator==1.0.1\n",
            "netCDF4==1.5.8\n",
            "ipython==5.5.0\n",
            "jupyterlab-widgets==1.1.0\n",
            "mizani==0.6.0\n",
            "coverage==3.7.1\n",
            "imblearn==0.0\n",
            "Cython==0.29.30\n",
            "mpmath==1.2.1\n",
            "tensorflow-io-gcs-filesystem==0.26.0\n",
            "wordcloud==1.5.0\n",
            "srsly==2.4.3\n",
            "tensorflow-hub==0.12.0\n",
            "geographiclib==1.52\n",
            "pexpect==4.8.0\n",
            "qtconsole==5.3.1\n",
            "numexpr==2.8.1\n",
            "pickleshare==0.7.5\n",
            "pyasn1-modules==0.2.8\n",
            "notebook==5.3.1\n",
            "cached-property==1.5.2\n",
            "httpimport==0.5.18\n",
            "argon2-cffi==21.3.0\n",
            "geopy==1.17.0\n",
            "intervaltree==2.1.0\n",
            "imgaug==0.2.9\n",
            "branca==0.5.0\n",
            "jsonschema==4.3.3\n",
            "folium==0.8.3\n",
            "matplotlib==3.2.2\n",
            "numba==0.51.2\n",
            "pandas-profiling==1.4.1\n",
            "pystan==2.19.1.1\n",
            "kapre==0.3.7\n",
            "PySocks==1.7.1\n",
            "pyviz-comms==2.2.0\n",
            "scikit-image==0.18.3\n",
            "prettytable==3.3.0\n",
            "pymongo==4.1.1\n",
            "uritemplate==3.0.1\n",
            "entrypoints==0.4\n",
            "snowballstemmer==2.2.0\n",
            "google-auth-httplib2==0.0.4\n",
            "bokeh==2.3.3\n",
            "httplib2==0.17.4\n",
            "charset-normalizer==2.1.0\n",
            "google-api-python-client==1.12.11\n",
            "openpyxl==3.0.10\n",
            "certifi==2022.6.15\n",
            "tifffile==2021.11.2\n",
            "google-resumable-media==0.4.1\n",
            "yellowbrick==1.4\n",
            "pytz==2022.1\n",
            "qdldl==0.1.5.post2\n",
            "dlib==19.18.0+zzzcolab20220513001918\n",
            "Send2Trash==1.8.0\n",
            "fix-yahoo-finance==0.0.22\n",
            "natsort==5.5.0\n",
            "dm-tree==0.1.7\n",
            "gspread==3.4.2\n",
            "google-pasta==0.2.0\n",
            "toolz==0.11.2\n",
            "soupsieve==2.3.2.post1\n",
            "torchaudio==0.11.0+cu113\n",
            "crcmod==1.7\n",
            "filelock==3.7.1\n",
            "sklearn-pandas==1.8.0\n",
            "fastrlock==0.8\n",
            "progressbar2==3.38.0\n",
            "wheel==0.37.1\n",
            "pip==21.1.3\n",
            "setuptools==57.4.0\n",
            "PyGObject==3.26.1\n",
            "screen-resolution-extra==0.0.0\n",
            "python-apt==1.6.5+ubuntu0.7\n",
            "xkit==0.0.0\n"
          ]
        }
      ]
    },
    {
      "cell_type": "markdown",
      "metadata": {
        "id": "3AXweA-auoDX"
      },
      "source": [
        "#  \n",
        "---\n",
        "---"
      ]
    },
    {
      "cell_type": "markdown",
      "metadata": {
        "id": "csh-zappftKC"
      },
      "source": [
        "# `〄` Files/Directories Manipulation"
      ]
    },
    {
      "cell_type": "markdown",
      "source": [
        "### `※` Mount Google Drive Locally"
      ],
      "metadata": {
        "id": "dGRC3GVXzMb_"
      }
    },
    {
      "cell_type": "code",
      "source": [
        "from google.colab import drive\n",
        "drive.mount('/content/drive')"
      ],
      "metadata": {
        "id": "T4zyLDuwzSIY"
      },
      "execution_count": null,
      "outputs": []
    },
    {
      "cell_type": "markdown",
      "source": [
        "### `※` Check Uploaded File Info\n",
        "`files.upload` returns a dictionary of the files which were uploaded.\n",
        "The dictionary is keyed by the file name and values are the data which were uploaded."
      ],
      "metadata": {
        "id": "zBY03v680Tj4"
      }
    },
    {
      "cell_type": "code",
      "source": [
        "from google.colab import files\n",
        "\n",
        "uploaded = files.upload()\n",
        "\n",
        "for fn in uploaded.keys():\n",
        "  print(f'User uploaded file \"{fn}\" with length {uploaded[fn]} bytes')"
      ],
      "metadata": {
        "id": "Zp2NLrlY0UI4"
      },
      "execution_count": null,
      "outputs": []
    },
    {
      "cell_type": "markdown",
      "metadata": {
        "id": "QbW6PhaXiKSc"
      },
      "source": [
        "### `※` Copy directory"
      ]
    },
    {
      "cell_type": "code",
      "source": [
        "pathToFolderYouWantToCopy = ''\n",
        "pathToDestination = ''\n",
        "!cp -av {pathToFolderYouWantToCopy} {pathToDestination}"
      ],
      "metadata": {
        "id": "xANRY__5y55F"
      },
      "execution_count": null,
      "outputs": []
    },
    {
      "cell_type": "code",
      "source": [
        "!cp -av '/path/to/folder' '/path/to/destination'"
      ],
      "metadata": {
        "id": "iruFk9oGy8IQ"
      },
      "execution_count": null,
      "outputs": []
    },
    {
      "cell_type": "code",
      "source": [
        "!cp -r '/path/to/folder' '/path/to/destination'"
      ],
      "metadata": {
        "id": "OMKChoEyBrHX"
      },
      "execution_count": null,
      "outputs": []
    },
    {
      "cell_type": "markdown",
      "source": [
        "### `※` Clone Github Repository"
      ],
      "metadata": {
        "id": "Lk2QkLRqvd1_"
      }
    },
    {
      "cell_type": "code",
      "source": [
        "!git clone https://github.com/neko941/My-Cheatsheet"
      ],
      "metadata": {
        "id": "mhb5399Ey_QQ"
      },
      "execution_count": null,
      "outputs": []
    },
    {
      "cell_type": "markdown",
      "source": [
        "### `※` Download a File From Google Drive to Google Colab"
      ],
      "metadata": {
        "id": "hDwpmF10v47P"
      }
    },
    {
      "cell_type": "code",
      "source": [
        "!gdown --id yourFileIDHere"
      ],
      "metadata": {
        "id": "ljnDvTpXzBNZ"
      },
      "execution_count": null,
      "outputs": []
    },
    {
      "cell_type": "markdown",
      "source": [
        "### `※` Download a File From Google Drive to Google Colab and Set Name for That File"
      ],
      "metadata": {
        "id": "Zok2yz6tAmE9"
      }
    },
    {
      "cell_type": "code",
      "source": [
        "!gdown --id yourFileIDHere -O yourNewNameYouWantToSet"
      ],
      "metadata": {
        "id": "cmOWo3TNAmPG"
      },
      "execution_count": null,
      "outputs": []
    },
    {
      "cell_type": "markdown",
      "source": [
        "### `※` Download a File from Google Colab to Local Machine"
      ],
      "metadata": {
        "id": "jM48R0fwyb8D"
      }
    },
    {
      "cell_type": "code",
      "source": [
        "from google.colab import files\n",
        "files.download('example.txt')"
      ],
      "metadata": {
        "id": "mTQf_JWWycma"
      },
      "execution_count": null,
      "outputs": []
    },
    {
      "cell_type": "markdown",
      "source": [
        "### `※` Create an Empty File"
      ],
      "metadata": {
        "id": "9lGUgbYi01cO"
      }
    },
    {
      "cell_type": "code",
      "source": [
        "!cat example.txt"
      ],
      "metadata": {
        "id": "N7GFRcMZ02OR"
      },
      "execution_count": null,
      "outputs": []
    },
    {
      "cell_type": "markdown",
      "source": [
        "### `※` Create an Empty Directory"
      ],
      "metadata": {
        "id": "fR3Jhe2WEL_r"
      }
    },
    {
      "cell_type": "code",
      "source": [
        "!mkdir exampleFolder"
      ],
      "metadata": {
        "id": "IsAjUSDCEMKj"
      },
      "execution_count": null,
      "outputs": []
    },
    {
      "cell_type": "code",
      "source": [
        "import os\n",
        "os.mkdir(\"exampleFolder\")"
      ],
      "metadata": {
        "id": "b4HQnhMFEe68"
      },
      "execution_count": null,
      "outputs": []
    },
    {
      "cell_type": "markdown",
      "metadata": {
        "id": "umRa9VGVuyLw"
      },
      "source": [
        "#  \n",
        "---\n",
        "---"
      ]
    },
    {
      "cell_type": "markdown",
      "source": [
        "# `〄` Form"
      ],
      "metadata": {
        "id": "jpZuz1dyqc7H"
      }
    },
    {
      "cell_type": "markdown",
      "source": [
        "### `※` String"
      ],
      "metadata": {
        "id": "YBNWUZREqkOa"
      }
    },
    {
      "cell_type": "code",
      "source": [
        "text = 'value' #@param {type:\"string\"}\n",
        "dropdown = '1st option' #@param [\"1st option\", \"2nd option\", \"3rd option\"]\n",
        "text_and_dropdown = 'value' #@param [\"1st option\", \"2nd option\", \"3rd option\"] {allow-input: true}"
      ],
      "metadata": {
        "cellView": "form",
        "id": "Il7vYEMurDLt"
      },
      "execution_count": null,
      "outputs": []
    },
    {
      "cell_type": "markdown",
      "source": [
        "### `※` Raw"
      ],
      "metadata": {
        "id": "-px2zRAmrQsC"
      }
    },
    {
      "cell_type": "code",
      "source": [
        "raw_input = None #@param {type:\"raw\"}\n",
        "raw_dropdown = a_raw_input #@param [1, \"a_raw_input\", \"False\", \"'string'\"] {type:\"raw\"}"
      ],
      "metadata": {
        "cellView": "form",
        "id": "Nj-XzzNYrPKc"
      },
      "execution_count": null,
      "outputs": []
    },
    {
      "cell_type": "markdown",
      "source": [
        "### `※` Date"
      ],
      "metadata": {
        "id": "IyvhzoTJrZfL"
      }
    },
    {
      "cell_type": "code",
      "source": [
        "date_input = '2022-07-09' #@param {type:\"date\"}"
      ],
      "metadata": {
        "cellView": "form",
        "id": "Y1bTmysWrY_M"
      },
      "execution_count": null,
      "outputs": []
    },
    {
      "cell_type": "markdown",
      "source": [
        "### `※` Number"
      ],
      "metadata": {
        "id": "9A1Wl-t4rvSP"
      }
    },
    {
      "cell_type": "code",
      "source": [
        "number_input = 10.0 #@param {type:\"number\"}\n",
        "\n",
        "\n",
        "integer_input = 10 #@param {type:\"integer\"}\n"
      ],
      "metadata": {
        "cellView": "form",
        "id": "5_hQYamzrvck"
      },
      "execution_count": null,
      "outputs": []
    },
    {
      "cell_type": "markdown",
      "source": [
        "### `※` Slider"
      ],
      "metadata": {
        "id": "Vu_alf39rwqq"
      }
    },
    {
      "cell_type": "code",
      "source": [
        "number_slider = 0.1 #@param {type:\"slider\", min:-1, max:1, step:0.1}\n",
        "integer_slider = 5 #@param {type:\"slider\", min:0, max:100, step:1}"
      ],
      "metadata": {
        "cellView": "form",
        "id": "rFRg-cmKrw3J"
      },
      "execution_count": null,
      "outputs": []
    },
    {
      "cell_type": "markdown",
      "source": [
        "### `※` Boolean"
      ],
      "metadata": {
        "id": "BDwdyVFAsEB1"
      }
    },
    {
      "cell_type": "code",
      "source": [
        "boolean_checkbox = True #@param {type:\"boolean\"}\n",
        "boolean_dropdown = False #@param [\"False\", \"True\"] {type:\"raw\"}"
      ],
      "metadata": {
        "cellView": "form",
        "id": "-EnQmtDcsEOs"
      },
      "execution_count": null,
      "outputs": []
    },
    {
      "cell_type": "markdown",
      "metadata": {
        "id": "QCW5sC_tqjGh"
      },
      "source": [
        "#  \n",
        "---\n",
        "---"
      ]
    },
    {
      "cell_type": "markdown",
      "source": [
        "# `〄` Markdown"
      ],
      "metadata": {
        "id": "BKXaLfz8sflI"
      }
    },
    {
      "cell_type": "markdown",
      "source": [
        "### `※` Markdown in Code Cell"
      ],
      "metadata": {
        "id": "_DN1XvS4soS0"
      }
    },
    {
      "cell_type": "code",
      "source": [
        "#@markdown This is a normal text\n",
        "b = 2\n",
        "print(b)"
      ],
      "metadata": {
        "colab": {
          "base_uri": "https://localhost:8080/"
        },
        "cellView": "form",
        "id": "__Z8Iytss-2K",
        "outputId": "bda62c4e-9474-44ad-cd57-575686a35c51"
      },
      "execution_count": null,
      "outputs": [
        {
          "output_type": "stream",
          "name": "stdout",
          "text": [
            "2\n"
          ]
        }
      ]
    },
    {
      "cell_type": "code",
      "source": [
        "#@markdown ---\n",
        "#@markdown ### Enter a number:\n",
        "a_number = 0 #@param {type:\"number\"}\n",
        "print(a_number)\n",
        "#@markdown ---"
      ],
      "metadata": {
        "colab": {
          "base_uri": "https://localhost:8080/"
        },
        "cellView": "form",
        "id": "it0Q24VHtIDX",
        "outputId": "f5164261-777e-44bc-b1ab-fc6b0fe07943"
      },
      "execution_count": null,
      "outputs": [
        {
          "output_type": "stream",
          "name": "stdout",
          "text": [
            "0\n"
          ]
        }
      ]
    },
    {
      "cell_type": "markdown",
      "source": [
        "### `※` List / Nested List"
      ],
      "metadata": {
        "id": "Cpiu2nX-SHFy"
      }
    },
    {
      "cell_type": "markdown",
      "source": [
        "* One\n",
        "    - Sublist\n",
        "        - This\n",
        "  - Sublist\n",
        "        - That\n",
        "        - The other thing\n",
        "* Two\n",
        "  - Sublist\n",
        "* Three\n",
        "  - Sublist"
      ],
      "metadata": {
        "id": "lf7WhBmTSHbI"
      }
    },
    {
      "cell_type": "markdown",
      "source": [
        "1. Here we go\n",
        "    1. Sublist\n",
        "    2. Sublist\n",
        "2. There we go\n",
        "3. Now this"
      ],
      "metadata": {
        "id": "Sh-pIG_SSJUT"
      }
    },
    {
      "cell_type": "markdown",
      "source": [
        "### `※` Table"
      ],
      "metadata": {
        "id": "fF9hI4DdSi9X"
      }
    },
    {
      "cell_type": "markdown",
      "source": [
        "<pre>\n",
        "| Default Header                | Left Align            | Right Align            | Center Align              |\n",
        "| ----------------------------- | :-------------------- | ---------------------: | :-----------------------: |\n",
        "| Default Header  Default Header| Left Align Left Align | Right Align Right Align| Center Align Center Align |\n",
        "</pre>\n",
        "\n",
        "| Default Header | Left Align | Right Align | Center Align |\n",
        "| -------------- | :--------- | ----------: | :----------: |\n",
        "| Default Header  Default Header| Left Align Left Align | Right Align Right Align| Center Align Center Align |"
      ],
      "metadata": {
        "id": "b4LzB22uSjAR"
      }
    },
    {
      "cell_type": "markdown",
      "source": [
        "### `※` Emphasis"
      ],
      "metadata": {
        "id": "EcuFyWke5L0L"
      }
    },
    {
      "cell_type": "markdown",
      "source": [
        "| Markdown   | HTML                    | Rendered Output |\n",
        "| ---------- | ----------------------- | --------------- |\n",
        "| `**bold**` | `<strong>bold</strong>` | **bold**        |\n",
        "| `__bold__` | `<strong>bold</strong>` | __bold__        |\n",
        "| `*italic*` | `<em>italic</em>`       | *italic*        |\n",
        "| `_italic_` | `<em>italic</em>`       | _italic_        |\n",
        "| `***bold italic***` | `<em><strong>bold italic</strong></em>` | ***bold italic***       |\n",
        "| `___bold italic___` | `<strong><em>bold italic</em></strong>` | ___bold italic___        |"
      ],
      "metadata": {
        "id": "kAUKvVSX5YST"
      }
    },
    {
      "cell_type": "markdown",
      "metadata": {
        "id": "8bpgxaXhujOA"
      },
      "source": [
        "#  \n",
        "---\n",
        "---"
      ]
    },
    {
      "cell_type": "markdown",
      "source": [
        "# `〄` Jupyter Widgets "
      ],
      "metadata": {
        "id": "ePKzIzxmufX5"
      }
    },
    {
      "cell_type": "markdown",
      "source": [
        "### `※` Button"
      ],
      "metadata": {
        "id": "lkj2mDrGuwEg"
      }
    },
    {
      "cell_type": "code",
      "source": [
        "import ipywidgets as widgets\n",
        "from IPython.display import display\n",
        "button = widgets.Button(description=\"Click Me!\")\n",
        "output = widgets.Output()\n",
        "\n",
        "def on_button_clicked(b):\n",
        "  # Display the message within the output widget.\n",
        "  with output:\n",
        "    print(\"Button clicked.\")\n",
        "\n",
        "button.on_click(on_button_clicked)\n",
        "display(button, output)"
      ],
      "metadata": {
        "colab": {
          "base_uri": "https://localhost:8080/",
          "height": 101,
          "referenced_widgets": [
            "69c730dc9b894075afbbfa3ca1c4d566",
            "5da0e48ce1fb43d8869e98a247f2f084",
            "8e4c83563ee14ce5bc73ef3d53b39b8f",
            "9633c8a5f79946a2a7f1470f7b4dd585",
            "bac5b40a2f1641379d988b45a9b84435"
          ]
        },
        "id": "ZR6aJrTfuIqw",
        "outputId": "36c6036d-5d32-4f9c-a782-78b0ef95b8ef"
      },
      "execution_count": null,
      "outputs": [
        {
          "output_type": "display_data",
          "data": {
            "text/plain": [
              "Button(description='Click Me!', style=ButtonStyle())"
            ],
            "application/vnd.jupyter.widget-view+json": {
              "version_major": 2,
              "version_minor": 0,
              "model_id": "69c730dc9b894075afbbfa3ca1c4d566"
            }
          },
          "metadata": {}
        },
        {
          "output_type": "display_data",
          "data": {
            "text/plain": [
              "Output()"
            ],
            "application/vnd.jupyter.widget-view+json": {
              "version_major": 2,
              "version_minor": 0,
              "model_id": "9633c8a5f79946a2a7f1470f7b4dd585"
            }
          },
          "metadata": {}
        }
      ]
    },
    {
      "cell_type": "markdown",
      "source": [
        "### `※` Slider"
      ],
      "metadata": {
        "id": "cAG3TdM-ux-l"
      }
    },
    {
      "cell_type": "code",
      "source": [
        "import ipywidgets as widgets\n",
        "slider = widgets.IntSlider(value=5, max=10)\n",
        "display(slider)"
      ],
      "metadata": {
        "colab": {
          "base_uri": "https://localhost:8080/",
          "height": 49,
          "referenced_widgets": [
            "bf75924076e242a5adfee69ceb1a4ef0",
            "1b7bd006a93b4214becba78357a836ad",
            "21a10bc62fb54513a337f3998d67f07f"
          ]
        },
        "id": "HBQ0l5Jguy8g",
        "outputId": "81a02763-c749-423e-beaf-032fc0612f0e"
      },
      "execution_count": null,
      "outputs": [
        {
          "output_type": "display_data",
          "data": {
            "text/plain": [
              "IntSlider(value=5, max=10)"
            ],
            "application/vnd.jupyter.widget-view+json": {
              "version_major": 2,
              "version_minor": 0,
              "model_id": "bf75924076e242a5adfee69ceb1a4ef0"
            }
          },
          "metadata": {}
        }
      ]
    },
    {
      "cell_type": "code",
      "source": [
        "print(f'Current value: {slider.value}')"
      ],
      "metadata": {
        "colab": {
          "base_uri": "https://localhost:8080/"
        },
        "id": "284CHIKFu1xa",
        "outputId": "a03db0fe-430f-4fb0-8c18-226988015f9e"
      },
      "execution_count": null,
      "outputs": [
        {
          "output_type": "stream",
          "name": "stdout",
          "text": [
            "Current value: 5\n"
          ]
        }
      ]
    },
    {
      "cell_type": "markdown",
      "metadata": {
        "id": "gH4d-c36shU9"
      },
      "source": [
        "#  \n",
        "---\n",
        "---"
      ]
    },
    {
      "cell_type": "markdown",
      "source": [
        "# `〄` Common Error"
      ],
      "metadata": {
        "id": "Gf0A4RaNCZ2C"
      }
    },
    {
      "cell_type": "markdown",
      "source": [
        "### `※` Permission Error while Downloading\n",
        "```\n",
        "Access denied with the following error:\n",
        " \tCannot retrieve the public link of the file. You may need to change\n",
        "\tthe permission to 'Anyone with the link', or have had many accesses. \n",
        "\n",
        "You may still be able to access the file from the browser:\n",
        "\t https://drive.google.com/uc?id=\n",
        "```\n",
        "---\n",
        "1. Check the file sharing permission and make sure it is public\n",
        "2. Using `!pip install --upgrade --no-cache-dir gdown`"
      ],
      "metadata": {
        "id": "ff6fPByOC3eT"
      }
    },
    {
      "cell_type": "markdown",
      "source": [
        "### `※` Avoid Colab Terminates Session\n",
        "```\n",
        "import time\n",
        "while True:\n",
        "    time.sleep(1)\n",
        "```"
      ],
      "metadata": {
        "id": "OT6ZZAhYLEO1"
      }
    },
    {
      "cell_type": "markdown",
      "source": [
        "# `〄` Utils"
      ],
      "metadata": {
        "id": "rFwBTygBKBoM"
      }
    },
    {
      "cell_type": "markdown",
      "source": [
        "### `※` Uninstall all Packages on Colab"
      ],
      "metadata": {
        "id": "fNeSPom8KFb5"
      }
    },
    {
      "cell_type": "code",
      "source": [
        "open('uninstall-colab-pip.sh', 'w').write(\"\"\"pip freeze > requirements.txt\n",
        "\n",
        "for VARIABLE in pygobject python-apt screen-resolution-extra xkit\n",
        "do\n",
        "\tawk !/$VARIABLE/ ./requirements.txt > temp && mv temp ./requirements.txt\n",
        "done\n",
        "\n",
        "pip uninstall -r requirements.txt -y\"\"\")\n",
        "\n",
        "!bash uninstall-colab-pip.sh\n",
        "!rm -rf uninstall-colab-pip.sh\n",
        "!rm -rf requirements.txt"
      ],
      "metadata": {
        "id": "ZSN6JWANJeHk"
      },
      "execution_count": null,
      "outputs": []
    }
  ]
}
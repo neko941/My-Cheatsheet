{
  "nbformat": 4,
  "nbformat_minor": 0,
  "metadata": {
    "colab": {
      "name": "Google-Colab-Cheatsheet.ipynb",
      "provenance": [],
      "collapsed_sections": [
        "zBwf5A5Wftc8"
      ],
      "toc_visible": true,
      "machine_shape": "hm",
      "include_colab_link": true
    },
    "kernelspec": {
      "name": "python3",
      "display_name": "Python 3"
    },
    "accelerator": "GPU",
    "gpuClass": "standard",
    "widgets": {
      "application/vnd.jupyter.widget-state+json": {
        "69c730dc9b894075afbbfa3ca1c4d566": {
          "model_module": "@jupyter-widgets/controls",
          "model_name": "ButtonModel",
          "model_module_version": "1.5.0",
          "state": {
            "_dom_classes": [],
            "_model_module": "@jupyter-widgets/controls",
            "_model_module_version": "1.5.0",
            "_model_name": "ButtonModel",
            "_view_count": null,
            "_view_module": "@jupyter-widgets/controls",
            "_view_module_version": "1.5.0",
            "_view_name": "ButtonView",
            "button_style": "",
            "description": "Click Me!",
            "disabled": false,
            "icon": "",
            "layout": "IPY_MODEL_5da0e48ce1fb43d8869e98a247f2f084",
            "style": "IPY_MODEL_8e4c83563ee14ce5bc73ef3d53b39b8f",
            "tooltip": ""
          }
        },
        "5da0e48ce1fb43d8869e98a247f2f084": {
          "model_module": "@jupyter-widgets/base",
          "model_name": "LayoutModel",
          "model_module_version": "1.2.0",
          "state": {
            "_model_module": "@jupyter-widgets/base",
            "_model_module_version": "1.2.0",
            "_model_name": "LayoutModel",
            "_view_count": null,
            "_view_module": "@jupyter-widgets/base",
            "_view_module_version": "1.2.0",
            "_view_name": "LayoutView",
            "align_content": null,
            "align_items": null,
            "align_self": null,
            "border": null,
            "bottom": null,
            "display": null,
            "flex": null,
            "flex_flow": null,
            "grid_area": null,
            "grid_auto_columns": null,
            "grid_auto_flow": null,
            "grid_auto_rows": null,
            "grid_column": null,
            "grid_gap": null,
            "grid_row": null,
            "grid_template_areas": null,
            "grid_template_columns": null,
            "grid_template_rows": null,
            "height": null,
            "justify_content": null,
            "justify_items": null,
            "left": null,
            "margin": null,
            "max_height": null,
            "max_width": null,
            "min_height": null,
            "min_width": null,
            "object_fit": null,
            "object_position": null,
            "order": null,
            "overflow": null,
            "overflow_x": null,
            "overflow_y": null,
            "padding": null,
            "right": null,
            "top": null,
            "visibility": null,
            "width": null
          }
        },
        "8e4c83563ee14ce5bc73ef3d53b39b8f": {
          "model_module": "@jupyter-widgets/controls",
          "model_name": "ButtonStyleModel",
          "model_module_version": "1.5.0",
          "state": {
            "_model_module": "@jupyter-widgets/controls",
            "_model_module_version": "1.5.0",
            "_model_name": "ButtonStyleModel",
            "_view_count": null,
            "_view_module": "@jupyter-widgets/base",
            "_view_module_version": "1.2.0",
            "_view_name": "StyleView",
            "button_color": null,
            "font_weight": ""
          }
        },
        "9633c8a5f79946a2a7f1470f7b4dd585": {
          "model_module": "@jupyter-widgets/output",
          "model_name": "OutputModel",
          "model_module_version": "1.0.0",
          "state": {
            "_dom_classes": [],
            "_model_module": "@jupyter-widgets/output",
            "_model_module_version": "1.0.0",
            "_model_name": "OutputModel",
            "_view_count": null,
            "_view_module": "@jupyter-widgets/output",
            "_view_module_version": "1.0.0",
            "_view_name": "OutputView",
            "layout": "IPY_MODEL_bac5b40a2f1641379d988b45a9b84435",
            "msg_id": "",
            "outputs": [
              {
                "output_type": "stream",
                "name": "stdout",
                "text": [
                  "Button clicked.\n"
                ]
              },
              {
                "output_type": "stream",
                "name": "stdout",
                "text": [
                  "Button clicked.\n"
                ]
              },
              {
                "output_type": "stream",
                "name": "stdout",
                "text": [
                  "Button clicked.\n"
                ]
              }
            ]
          }
        },
        "bac5b40a2f1641379d988b45a9b84435": {
          "model_module": "@jupyter-widgets/base",
          "model_name": "LayoutModel",
          "model_module_version": "1.2.0",
          "state": {
            "_model_module": "@jupyter-widgets/base",
            "_model_module_version": "1.2.0",
            "_model_name": "LayoutModel",
            "_view_count": null,
            "_view_module": "@jupyter-widgets/base",
            "_view_module_version": "1.2.0",
            "_view_name": "LayoutView",
            "align_content": null,
            "align_items": null,
            "align_self": null,
            "border": null,
            "bottom": null,
            "display": null,
            "flex": null,
            "flex_flow": null,
            "grid_area": null,
            "grid_auto_columns": null,
            "grid_auto_flow": null,
            "grid_auto_rows": null,
            "grid_column": null,
            "grid_gap": null,
            "grid_row": null,
            "grid_template_areas": null,
            "grid_template_columns": null,
            "grid_template_rows": null,
            "height": null,
            "justify_content": null,
            "justify_items": null,
            "left": null,
            "margin": null,
            "max_height": null,
            "max_width": null,
            "min_height": null,
            "min_width": null,
            "object_fit": null,
            "object_position": null,
            "order": null,
            "overflow": null,
            "overflow_x": null,
            "overflow_y": null,
            "padding": null,
            "right": null,
            "top": null,
            "visibility": null,
            "width": null
          }
        },
        "bf75924076e242a5adfee69ceb1a4ef0": {
          "model_module": "@jupyter-widgets/controls",
          "model_name": "IntSliderModel",
          "model_module_version": "1.5.0",
          "state": {
            "_dom_classes": [],
            "_model_module": "@jupyter-widgets/controls",
            "_model_module_version": "1.5.0",
            "_model_name": "IntSliderModel",
            "_view_count": null,
            "_view_module": "@jupyter-widgets/controls",
            "_view_module_version": "1.5.0",
            "_view_name": "IntSliderView",
            "continuous_update": true,
            "description": "",
            "description_tooltip": null,
            "disabled": false,
            "layout": "IPY_MODEL_1b7bd006a93b4214becba78357a836ad",
            "max": 10,
            "min": 0,
            "orientation": "horizontal",
            "readout": true,
            "readout_format": "d",
            "step": 1,
            "style": "IPY_MODEL_21a10bc62fb54513a337f3998d67f07f",
            "value": 5
          }
        },
        "1b7bd006a93b4214becba78357a836ad": {
          "model_module": "@jupyter-widgets/base",
          "model_name": "LayoutModel",
          "model_module_version": "1.2.0",
          "state": {
            "_model_module": "@jupyter-widgets/base",
            "_model_module_version": "1.2.0",
            "_model_name": "LayoutModel",
            "_view_count": null,
            "_view_module": "@jupyter-widgets/base",
            "_view_module_version": "1.2.0",
            "_view_name": "LayoutView",
            "align_content": null,
            "align_items": null,
            "align_self": null,
            "border": null,
            "bottom": null,
            "display": null,
            "flex": null,
            "flex_flow": null,
            "grid_area": null,
            "grid_auto_columns": null,
            "grid_auto_flow": null,
            "grid_auto_rows": null,
            "grid_column": null,
            "grid_gap": null,
            "grid_row": null,
            "grid_template_areas": null,
            "grid_template_columns": null,
            "grid_template_rows": null,
            "height": null,
            "justify_content": null,
            "justify_items": null,
            "left": null,
            "margin": null,
            "max_height": null,
            "max_width": null,
            "min_height": null,
            "min_width": null,
            "object_fit": null,
            "object_position": null,
            "order": null,
            "overflow": null,
            "overflow_x": null,
            "overflow_y": null,
            "padding": null,
            "right": null,
            "top": null,
            "visibility": null,
            "width": null
          }
        },
        "21a10bc62fb54513a337f3998d67f07f": {
          "model_module": "@jupyter-widgets/controls",
          "model_name": "SliderStyleModel",
          "model_module_version": "1.5.0",
          "state": {
            "_model_module": "@jupyter-widgets/controls",
            "_model_module_version": "1.5.0",
            "_model_name": "SliderStyleModel",
            "_view_count": null,
            "_view_module": "@jupyter-widgets/base",
            "_view_module_version": "1.2.0",
            "_view_name": "StyleView",
            "description_width": "",
            "handle_color": null
          }
        }
      }
    }
  },
  "cells": [
    {
      "cell_type": "markdown",
      "metadata": {
        "id": "view-in-github",
        "colab_type": "text"
      },
      "source": [
        "<a href=\"https://colab.research.google.com/github/neko941/My-Cheatsheet/blob/main/Google_Colab_Cheatsheet.ipynb\" target=\"_parent\"><img src=\"https://colab.research.google.com/assets/colab-badge.svg\" alt=\"Open In Colab\"/></a>"
      ]
    },
    {
      "cell_type": "markdown",
      "metadata": {
        "id": "lxTFXZi41jYa"
      },
      "source": [
        "# `〄` Colab Information"
      ]
    },
    {
      "cell_type": "code",
      "source": [
        "#@title ### `※` Check Network Speed\n",
        "#@markdown ```!curl -s https://raw.githubusercontent.com/sivel/speedtest-cli/master/speedtest.py | python -```\n",
        "\n",
        "!curl -s https://raw.githubusercontent.com/sivel/speedtest-cli/master/speedtest.py | python -"
      ],
      "metadata": {
        "colab": {
          "base_uri": "https://localhost:8080/"
        },
        "cellView": "form",
        "id": "DIimJt0yxNR7",
        "outputId": "e11b706d-6444-4085-c925-086952c276c7"
      },
      "execution_count": null,
      "outputs": [
        {
          "output_type": "stream",
          "name": "stdout",
          "text": [
            "Retrieving speedtest.net configuration...\n",
            "Testing from Google Cloud (34.126.189.34)...\n",
            "Retrieving speedtest.net server list...\n",
            "Selecting best server based on ping...\n",
            "Hosted by Celcom Axiata (Petaling Jaya) [315.66 km]: 13.359 ms\n",
            "Testing download speed................................................................................\n",
            "Download: 1101.09 Mbit/s\n",
            "Testing upload speed......................................................................................................\n",
            "Upload: 744.70 Mbit/s\n"
          ]
        }
      ]
    },
    {
      "cell_type": "code",
      "source": [
        "#@title ### `※` Check IP\n",
        "#@markdown ```!curl -s http://checkip.amazonaws.com``` \n",
        "!curl -s http://checkip.amazonaws.com"
      ],
      "metadata": {
        "colab": {
          "base_uri": "https://localhost:8080/"
        },
        "cellView": "form",
        "id": "dAl0kSgpw8LB",
        "outputId": "99191327-a5ac-433e-c1df-3f150ee55507"
      },
      "execution_count": null,
      "outputs": [
        {
          "output_type": "stream",
          "name": "stdout",
          "text": [
            "34.126.189.34\n"
          ]
        }
      ]
    },
    {
      "cell_type": "code",
      "source": [
        "#@title ### `※` Check GPU\n",
        "#@markdown `!nvidia-smi`\n",
        "\n",
        "gpu_info = !nvidia-smi\n",
        "gpu_info = '\\n'.join(gpu_info)\n",
        "if gpu_info.find('failed') >= 0:\n",
        "  print('Not connected to a GPU')\n",
        "else:\n",
        "  print(gpu_info)"
      ],
      "metadata": {
        "colab": {
          "base_uri": "https://localhost:8080/"
        },
        "cellView": "form",
        "id": "o3Iyv30pwS2v",
        "outputId": "9fe9c4e5-df71-4ba7-d6be-2986a1138b99"
      },
      "execution_count": null,
      "outputs": [
        {
          "output_type": "stream",
          "name": "stdout",
          "text": [
            "Fri Jul  8 17:01:44 2022       \n",
            "+-----------------------------------------------------------------------------+\n",
            "| NVIDIA-SMI 460.32.03    Driver Version: 460.32.03    CUDA Version: 11.2     |\n",
            "|-------------------------------+----------------------+----------------------+\n",
            "| GPU  Name        Persistence-M| Bus-Id        Disp.A | Volatile Uncorr. ECC |\n",
            "| Fan  Temp  Perf  Pwr:Usage/Cap|         Memory-Usage | GPU-Util  Compute M. |\n",
            "|                               |                      |               MIG M. |\n",
            "|===============================+======================+======================|\n",
            "|   0  Tesla T4            Off  | 00000000:00:04.0 Off |                    0 |\n",
            "| N/A   42C    P8    10W /  70W |      0MiB / 15109MiB |      0%      Default |\n",
            "|                               |                      |                  N/A |\n",
            "+-------------------------------+----------------------+----------------------+\n",
            "                                                                               \n",
            "+-----------------------------------------------------------------------------+\n",
            "| Processes:                                                                  |\n",
            "|  GPU   GI   CI        PID   Type   Process name                  GPU Memory |\n",
            "|        ID   ID                                                   Usage      |\n",
            "|=============================================================================|\n",
            "|  No running processes found                                                 |\n",
            "+-----------------------------------------------------------------------------+\n"
          ]
        }
      ]
    },
    {
      "cell_type": "code",
      "source": [
        "#@title ### `※` Check High RAM\n",
        "from psutil import virtual_memory\n",
        "ram_gb = virtual_memory().total / 1e9\n",
        "print('Your runtime has {:.1f} gigabytes of available RAM\\n'.format(ram_gb))\n",
        "\n",
        "if ram_gb < 20:\n",
        "  print('Not using a high-RAM runtime')\n",
        "else:\n",
        "  print('You are using a high-RAM runtime!')"
      ],
      "metadata": {
        "colab": {
          "base_uri": "https://localhost:8080/"
        },
        "cellView": "form",
        "id": "IL91xGF0wzwy",
        "outputId": "dc0f01cd-9019-4de6-ff43-a51265a28939"
      },
      "execution_count": null,
      "outputs": [
        {
          "output_type": "stream",
          "name": "stdout",
          "text": [
            "Your runtime has 27.3 gigabytes of available RAM\n",
            "\n",
            "You are using a high-RAM runtime!\n"
          ]
        }
      ]
    },
    {
      "cell_type": "markdown",
      "metadata": {
        "id": "3AXweA-auoDX"
      },
      "source": [
        "#  \n",
        "---\n",
        "---"
      ]
    },
    {
      "cell_type": "markdown",
      "metadata": {
        "id": "csh-zappftKC"
      },
      "source": [
        "# `〄` Files/Directories Manipulation"
      ]
    },
    {
      "cell_type": "markdown",
      "source": [
        "### `※` Mount Google Drive Locally"
      ],
      "metadata": {
        "id": "dGRC3GVXzMb_"
      }
    },
    {
      "cell_type": "code",
      "source": [
        "from google.colab import drive\n",
        "drive.mount('/content/drive')"
      ],
      "metadata": {
        "id": "T4zyLDuwzSIY"
      },
      "execution_count": null,
      "outputs": []
    },
    {
      "cell_type": "markdown",
      "source": [
        "### `※` Check Uploaded File Info\n",
        "`files.upload` returns a dictionary of the files which were uploaded.\n",
        "The dictionary is keyed by the file name and values are the data which were uploaded."
      ],
      "metadata": {
        "id": "zBY03v680Tj4"
      }
    },
    {
      "cell_type": "code",
      "source": [
        "from google.colab import files\n",
        "\n",
        "uploaded = files.upload()\n",
        "\n",
        "for fn in uploaded.keys():\n",
        "  print(f'User uploaded file \"{fn}\" with length {uploaded[fn]} bytes')"
      ],
      "metadata": {
        "id": "Zp2NLrlY0UI4"
      },
      "execution_count": null,
      "outputs": []
    },
    {
      "cell_type": "markdown",
      "metadata": {
        "id": "QbW6PhaXiKSc"
      },
      "source": [
        "### `※` Copy directory"
      ]
    },
    {
      "cell_type": "code",
      "source": [
        "pathToFolderYouWantToCopy = ''\n",
        "pathToDestination = ''\n",
        "!cp -av {pathToFolderYouWantToCopy} {pathToDestination}"
      ],
      "metadata": {
        "id": "xANRY__5y55F"
      },
      "execution_count": null,
      "outputs": []
    },
    {
      "cell_type": "code",
      "source": [
        "!cp -av '/path/to/folder' '/path/to/destination'"
      ],
      "metadata": {
        "id": "iruFk9oGy8IQ"
      },
      "execution_count": null,
      "outputs": []
    },
    {
      "cell_type": "markdown",
      "source": [
        "### `※` Clone Github Repository"
      ],
      "metadata": {
        "id": "Lk2QkLRqvd1_"
      }
    },
    {
      "cell_type": "code",
      "source": [
        "!git clone https://github.com/neko941/My-Cheatsheet"
      ],
      "metadata": {
        "id": "mhb5399Ey_QQ"
      },
      "execution_count": null,
      "outputs": []
    },
    {
      "cell_type": "markdown",
      "source": [
        "### `※` Download a File From Google Drive to Google Colab"
      ],
      "metadata": {
        "id": "hDwpmF10v47P"
      }
    },
    {
      "cell_type": "code",
      "source": [
        "!gdown --id yourFileIDHere"
      ],
      "metadata": {
        "id": "ljnDvTpXzBNZ"
      },
      "execution_count": null,
      "outputs": []
    },
    {
      "cell_type": "markdown",
      "source": [
        "### `※` Download a File from Google Colab to Local Machine"
      ],
      "metadata": {
        "id": "jM48R0fwyb8D"
      }
    },
    {
      "cell_type": "code",
      "source": [
        "from google.colab import files\n",
        "files.download('example.txt')"
      ],
      "metadata": {
        "id": "mTQf_JWWycma"
      },
      "execution_count": null,
      "outputs": []
    },
    {
      "cell_type": "markdown",
      "source": [
        "### `※` Create an Empty File"
      ],
      "metadata": {
        "id": "9lGUgbYi01cO"
      }
    },
    {
      "cell_type": "code",
      "source": [
        "!cat example.txt"
      ],
      "metadata": {
        "id": "N7GFRcMZ02OR"
      },
      "execution_count": null,
      "outputs": []
    },
    {
      "cell_type": "markdown",
      "metadata": {
        "id": "umRa9VGVuyLw"
      },
      "source": [
        "#  \n",
        "---\n",
        "---"
      ]
    },
    {
      "cell_type": "markdown",
      "source": [
        "# `〄` Form"
      ],
      "metadata": {
        "id": "jpZuz1dyqc7H"
      }
    },
    {
      "cell_type": "markdown",
      "source": [
        "### `※` String"
      ],
      "metadata": {
        "id": "YBNWUZREqkOa"
      }
    },
    {
      "cell_type": "code",
      "source": [
        "text = 'value' #@param {type:\"string\"}\n",
        "dropdown = '1st option' #@param [\"1st option\", \"2nd option\", \"3rd option\"]\n",
        "text_and_dropdown = 'value' #@param [\"1st option\", \"2nd option\", \"3rd option\"] {allow-input: true}"
      ],
      "metadata": {
        "cellView": "form",
        "id": "Il7vYEMurDLt"
      },
      "execution_count": null,
      "outputs": []
    },
    {
      "cell_type": "markdown",
      "source": [
        "### `※` Raw"
      ],
      "metadata": {
        "id": "-px2zRAmrQsC"
      }
    },
    {
      "cell_type": "code",
      "source": [
        "raw_input = None #@param {type:\"raw\"}\n",
        "raw_dropdown = a_raw_input #@param [1, \"a_raw_input\", \"False\", \"'string'\"] {type:\"raw\"}"
      ],
      "metadata": {
        "cellView": "form",
        "id": "Nj-XzzNYrPKc"
      },
      "execution_count": null,
      "outputs": []
    },
    {
      "cell_type": "markdown",
      "source": [
        "### `※` Date"
      ],
      "metadata": {
        "id": "IyvhzoTJrZfL"
      }
    },
    {
      "cell_type": "code",
      "source": [
        "date_input = '2022-07-09' #@param {type:\"date\"}"
      ],
      "metadata": {
        "cellView": "form",
        "id": "Y1bTmysWrY_M"
      },
      "execution_count": null,
      "outputs": []
    },
    {
      "cell_type": "markdown",
      "source": [
        "### `※` Number"
      ],
      "metadata": {
        "id": "9A1Wl-t4rvSP"
      }
    },
    {
      "cell_type": "code",
      "source": [
        "number_input = 10.0 #@param {type:\"number\"}\n",
        "\n",
        "\n",
        "integer_input = 10 #@param {type:\"integer\"}\n"
      ],
      "metadata": {
        "cellView": "form",
        "id": "5_hQYamzrvck"
      },
      "execution_count": null,
      "outputs": []
    },
    {
      "cell_type": "markdown",
      "source": [
        "### `※` Slider"
      ],
      "metadata": {
        "id": "Vu_alf39rwqq"
      }
    },
    {
      "cell_type": "code",
      "source": [
        "number_slider = 0.1 #@param {type:\"slider\", min:-1, max:1, step:0.1}\n",
        "integer_slider = 5 #@param {type:\"slider\", min:0, max:100, step:1}"
      ],
      "metadata": {
        "cellView": "form",
        "id": "rFRg-cmKrw3J"
      },
      "execution_count": null,
      "outputs": []
    },
    {
      "cell_type": "markdown",
      "source": [
        "### `※` Boolean"
      ],
      "metadata": {
        "id": "BDwdyVFAsEB1"
      }
    },
    {
      "cell_type": "code",
      "source": [
        "boolean_checkbox = True #@param {type:\"boolean\"}\n",
        "boolean_dropdown = False #@param [\"False\", \"True\"] {type:\"raw\"}"
      ],
      "metadata": {
        "cellView": "form",
        "id": "-EnQmtDcsEOs"
      },
      "execution_count": null,
      "outputs": []
    },
    {
      "cell_type": "markdown",
      "metadata": {
        "id": "QCW5sC_tqjGh"
      },
      "source": [
        "#  \n",
        "---\n",
        "---"
      ]
    },
    {
      "cell_type": "markdown",
      "source": [
        "# `〄` Markdown"
      ],
      "metadata": {
        "id": "BKXaLfz8sflI"
      }
    },
    {
      "cell_type": "markdown",
      "source": [
        "### `※` Markdown in Code Cell"
      ],
      "metadata": {
        "id": "_DN1XvS4soS0"
      }
    },
    {
      "cell_type": "code",
      "source": [
        "#@title # Title\n",
        "a = 1\n",
        "print(a)"
      ],
      "metadata": {
        "colab": {
          "base_uri": "https://localhost:8080/"
        },
        "cellView": "form",
        "id": "S4PlJrGGsfwd",
        "outputId": "909ff40f-633d-41f8-9c61-031c12e87c76"
      },
      "execution_count": null,
      "outputs": [
        {
          "output_type": "stream",
          "name": "stdout",
          "text": [
            "1\n"
          ]
        }
      ]
    },
    {
      "cell_type": "code",
      "source": [
        "#@markdown This is a normal text\n",
        "b = 2\n",
        "print(b)"
      ],
      "metadata": {
        "colab": {
          "base_uri": "https://localhost:8080/"
        },
        "cellView": "form",
        "id": "__Z8Iytss-2K",
        "outputId": "bda62c4e-9474-44ad-cd57-575686a35c51"
      },
      "execution_count": null,
      "outputs": [
        {
          "output_type": "stream",
          "name": "stdout",
          "text": [
            "2\n"
          ]
        }
      ]
    },
    {
      "cell_type": "code",
      "source": [
        "#@markdown ---\n",
        "#@markdown ### Enter a number:\n",
        "a_number = 0 #@param {type:\"number\"}\n",
        "print(a_number)\n",
        "#@markdown ---"
      ],
      "metadata": {
        "colab": {
          "base_uri": "https://localhost:8080/"
        },
        "cellView": "form",
        "id": "it0Q24VHtIDX",
        "outputId": "f5164261-777e-44bc-b1ab-fc6b0fe07943"
      },
      "execution_count": null,
      "outputs": [
        {
          "output_type": "stream",
          "name": "stdout",
          "text": [
            "0\n"
          ]
        }
      ]
    },
    {
      "cell_type": "markdown",
      "metadata": {
        "id": "8bpgxaXhujOA"
      },
      "source": [
        "#  \n",
        "---\n",
        "---"
      ]
    },
    {
      "cell_type": "markdown",
      "source": [
        "# `〄` Jupyter Widgets "
      ],
      "metadata": {
        "id": "ePKzIzxmufX5"
      }
    },
    {
      "cell_type": "markdown",
      "source": [
        "### `※` Button"
      ],
      "metadata": {
        "id": "lkj2mDrGuwEg"
      }
    },
    {
      "cell_type": "code",
      "source": [
        "import ipywidgets as widgets\n",
        "from IPython.display import display\n",
        "button = widgets.Button(description=\"Click Me!\")\n",
        "output = widgets.Output()\n",
        "\n",
        "def on_button_clicked(b):\n",
        "  # Display the message within the output widget.\n",
        "  with output:\n",
        "    print(\"Button clicked.\")\n",
        "\n",
        "button.on_click(on_button_clicked)\n",
        "display(button, output)"
      ],
      "metadata": {
        "colab": {
          "base_uri": "https://localhost:8080/",
          "height": 101,
          "referenced_widgets": [
            "69c730dc9b894075afbbfa3ca1c4d566",
            "5da0e48ce1fb43d8869e98a247f2f084",
            "8e4c83563ee14ce5bc73ef3d53b39b8f",
            "9633c8a5f79946a2a7f1470f7b4dd585",
            "bac5b40a2f1641379d988b45a9b84435"
          ]
        },
        "id": "ZR6aJrTfuIqw",
        "outputId": "36c6036d-5d32-4f9c-a782-78b0ef95b8ef"
      },
      "execution_count": null,
      "outputs": [
        {
          "output_type": "display_data",
          "data": {
            "text/plain": [
              "Button(description='Click Me!', style=ButtonStyle())"
            ],
            "application/vnd.jupyter.widget-view+json": {
              "version_major": 2,
              "version_minor": 0,
              "model_id": "69c730dc9b894075afbbfa3ca1c4d566"
            }
          },
          "metadata": {}
        },
        {
          "output_type": "display_data",
          "data": {
            "text/plain": [
              "Output()"
            ],
            "application/vnd.jupyter.widget-view+json": {
              "version_major": 2,
              "version_minor": 0,
              "model_id": "9633c8a5f79946a2a7f1470f7b4dd585"
            }
          },
          "metadata": {}
        }
      ]
    },
    {
      "cell_type": "markdown",
      "source": [
        "### `※` Slider"
      ],
      "metadata": {
        "id": "cAG3TdM-ux-l"
      }
    },
    {
      "cell_type": "code",
      "source": [
        "import ipywidgets as widgets\n",
        "slider = widgets.IntSlider(value=5, max=10)\n",
        "display(slider)"
      ],
      "metadata": {
        "colab": {
          "base_uri": "https://localhost:8080/",
          "height": 49,
          "referenced_widgets": [
            "bf75924076e242a5adfee69ceb1a4ef0",
            "1b7bd006a93b4214becba78357a836ad",
            "21a10bc62fb54513a337f3998d67f07f"
          ]
        },
        "id": "HBQ0l5Jguy8g",
        "outputId": "81a02763-c749-423e-beaf-032fc0612f0e"
      },
      "execution_count": null,
      "outputs": [
        {
          "output_type": "display_data",
          "data": {
            "text/plain": [
              "IntSlider(value=5, max=10)"
            ],
            "application/vnd.jupyter.widget-view+json": {
              "version_major": 2,
              "version_minor": 0,
              "model_id": "bf75924076e242a5adfee69ceb1a4ef0"
            }
          },
          "metadata": {}
        }
      ]
    },
    {
      "cell_type": "code",
      "source": [
        "print(f'Current value: {slider.value}')"
      ],
      "metadata": {
        "colab": {
          "base_uri": "https://localhost:8080/"
        },
        "id": "284CHIKFu1xa",
        "outputId": "a03db0fe-430f-4fb0-8c18-226988015f9e"
      },
      "execution_count": null,
      "outputs": [
        {
          "output_type": "stream",
          "name": "stdout",
          "text": [
            "Current value: 5\n"
          ]
        }
      ]
    },
    {
      "cell_type": "markdown",
      "metadata": {
        "id": "gH4d-c36shU9"
      },
      "source": [
        "#  \n",
        "---\n",
        "---"
      ]
    }
  ]
}
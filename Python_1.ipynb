{
 "cells": [
  {
   "cell_type": "markdown",
   "id": "8932c8ad-6de2-4572-bfd4-a0c4c39c414c",
   "metadata": {},
   "source": [
    "## 1. Environment"
   ]
  },
  {
   "cell_type": "markdown",
   "id": "173b05a4-1bbf-468c-aecd-495f4fd32904",
   "metadata": {},
   "source": [
    "## 2. Number"
   ]
  },
  {
   "cell_type": "markdown",
   "id": "fc64a965-7934-4fe7-9532-be23cbeed5b1",
   "metadata": {},
   "source": [
    "### 2.1 Mathematics"
   ]
  },
  {
   "cell_type": "code",
   "execution_count": 1,
   "id": "9cf32e60-31da-4785-bc19-59696de46310",
   "metadata": {},
   "outputs": [],
   "source": [
    "import math"
   ]
  },
  {
   "cell_type": "code",
   "execution_count": 32,
   "id": "16dd34dd-a034-4f5b-9be6-c8d7510df5c3",
   "metadata": {},
   "outputs": [
    {
     "data": {
      "text/plain": [
       "['__doc__',\n",
       " '__loader__',\n",
       " '__name__',\n",
       " '__package__',\n",
       " '__spec__',\n",
       " 'acos',\n",
       " 'acosh',\n",
       " 'asin',\n",
       " 'asinh',\n",
       " 'atan',\n",
       " 'atan2',\n",
       " 'atanh',\n",
       " 'ceil',\n",
       " 'comb',\n",
       " 'copysign',\n",
       " 'cos',\n",
       " 'cosh',\n",
       " 'degrees',\n",
       " 'dist',\n",
       " 'e',\n",
       " 'erf',\n",
       " 'erfc',\n",
       " 'exp',\n",
       " 'expm1',\n",
       " 'fabs',\n",
       " 'factorial',\n",
       " 'floor',\n",
       " 'fmod',\n",
       " 'frexp',\n",
       " 'fsum',\n",
       " 'gamma',\n",
       " 'gcd',\n",
       " 'hypot',\n",
       " 'inf',\n",
       " 'isclose',\n",
       " 'isfinite',\n",
       " 'isinf',\n",
       " 'isnan',\n",
       " 'isqrt',\n",
       " 'ldexp',\n",
       " 'lgamma',\n",
       " 'log',\n",
       " 'log10',\n",
       " 'log1p',\n",
       " 'log2',\n",
       " 'modf',\n",
       " 'nan',\n",
       " 'perm',\n",
       " 'pi',\n",
       " 'pow',\n",
       " 'prod',\n",
       " 'radians',\n",
       " 'remainder',\n",
       " 'sin',\n",
       " 'sinh',\n",
       " 'sqrt',\n",
       " 'tan',\n",
       " 'tanh',\n",
       " 'tau',\n",
       " 'trunc']"
      ]
     },
     "execution_count": 32,
     "metadata": {},
     "output_type": "execute_result"
    }
   ],
   "source": [
    "dir(math)"
   ]
  },
  {
   "cell_type": "code",
   "execution_count": 33,
   "id": "9697bb9e-1ce3-4dcb-8ded-a03eec71902c",
   "metadata": {},
   "outputs": [
    {
     "name": "stdout",
     "output_type": "stream",
     "text": [
      "3.141592653589793\n",
      "-1.0\n",
      "22026.465794806718\n",
      "3.0\n",
      "1.1752011936438014\n",
      "720\n"
     ]
    }
   ],
   "source": [
    "print(math.pi)\n",
    "print(math.cos(math.pi))\n",
    "print(math.exp(10))\n",
    "print(math.log10(1000))\n",
    "print(math.sinh(1))\n",
    "print(math.factorial(6))"
   ]
  },
  {
   "cell_type": "markdown",
   "id": "ef1669e1-0004-4b44-902d-089cdad9c840",
   "metadata": {},
   "source": [
    "### 2.2 Trick in number"
   ]
  },
  {
   "cell_type": "markdown",
   "id": "076fd6e2-02f9-4e7b-aca1-2571bd425160",
   "metadata": {},
   "source": [
    "#### 2.2.1 Swap giá trị"
   ]
  },
  {
   "cell_type": "code",
   "execution_count": 5,
   "id": "865a0f99-ec83-4edc-b9f8-6572dbeef40f",
   "metadata": {},
   "outputs": [
    {
     "name": "stdout",
     "output_type": "stream",
     "text": [
      "a = 3\n",
      "b = 2\n"
     ]
    }
   ],
   "source": [
    "a = 2\n",
    "b = 3\n",
    "\n",
    "a,b = b,a\n",
    "\n",
    "print('a =', a)\n",
    "print('b =', b)\n"
   ]
  },
  {
   "cell_type": "markdown",
   "id": "7ff1b8c5-14ef-485b-a672-39e86a3f1e54",
   "metadata": {},
   "source": [
    "#### 2.2.2 E notation"
   ]
  },
  {
   "cell_type": "code",
   "execution_count": 6,
   "id": "cb17785a-36a1-4dc2-80f2-38436529d0e1",
   "metadata": {},
   "outputs": [
    {
     "name": "stdout",
     "output_type": "stream",
     "text": [
      "20000000000.0\n",
      "-30000000000.0\n",
      "-inf\n",
      "inf\n"
     ]
    }
   ],
   "source": [
    "#positive\n",
    "print(2e10)\n",
    "\n",
    "#negative\n",
    "print(-3e10)\n",
    "\n",
    "#-inf\n",
    "print(-3e400)\n",
    "\n",
    "#inf\n",
    "print(43e400)"
   ]
  },
  {
   "cell_type": "markdown",
   "id": "35acff80-1859-4f24-9e65-3074a617f98e",
   "metadata": {},
   "source": [
    "#### 2.2.3 Write interger"
   ]
  },
  {
   "cell_type": "code",
   "execution_count": 7,
   "id": "32fba7d2-c670-4b4e-b404-5c0765b27d48",
   "metadata": {},
   "outputs": [
    {
     "name": "stdout",
     "output_type": "stream",
     "text": [
      "25000000\n",
      "25000000\n"
     ]
    }
   ],
   "source": [
    "print(25000000)\n",
    "print(25_000_000)"
   ]
  },
  {
   "cell_type": "markdown",
   "id": "25677c20-0b0b-4033-b295-0c288c845055",
   "metadata": {},
   "source": [
    "#### 2.2.4 Print Style"
   ]
  },
  {
   "cell_type": "markdown",
   "id": "b4a731c1-3e30-4d21-a8ef-0bbe6a10519d",
   "metadata": {},
   "source": [
    "`.format()`"
   ]
  },
  {
   "cell_type": "code",
   "execution_count": 8,
   "id": "1787e757-718a-40d9-ac1a-cbf01a6dbd63",
   "metadata": {},
   "outputs": [
    {
     "name": "stdout",
     "output_type": "stream",
     "text": [
      "Hello John\n",
      "Hello John, 28 \n"
     ]
    }
   ],
   "source": [
    "name = \"John\"\n",
    "print( \"Hello {}\".format(name) )\n",
    "print( \"Hello {}, {} \".format(name, 28))"
   ]
  },
  {
   "cell_type": "markdown",
   "id": "597f4b67-8644-4242-8402-1074767de2d5",
   "metadata": {},
   "source": [
    "`f Strings`"
   ]
  },
  {
   "cell_type": "code",
   "execution_count": 9,
   "id": "0041c9f0-e482-4c99-91bb-39e930f3cbe0",
   "metadata": {},
   "outputs": [
    {
     "name": "stdout",
     "output_type": "stream",
     "text": [
      "n = 7.12\n",
      "n = 1,234,567,890\n",
      "n = 1,234.56\n",
      "ratio = 90.0%\n",
      "ratio = 90.00%\n"
     ]
    }
   ],
   "source": [
    "n = 7.125\n",
    "print(f\"n = {n:.2f}\")\n",
    "\n",
    "n = 1234567890\n",
    "print(f\"n = {n:,}\")\n",
    "\n",
    " \n",
    "n = 1234.56\n",
    "print(f\"n = {n:,.2f}\")\n",
    " \n",
    " \n",
    "ratio = 0.9\n",
    "print(f\"ratio = {ratio:.1%}\")\n",
    " \n",
    "# Display percentage with 2 decimal places\n",
    "print(f\"ratio = {ratio:.2%}\")"
   ]
  },
  {
   "cell_type": "markdown",
   "id": "b9d1177e-2ede-4fec-94a4-9427122a5a12",
   "metadata": {},
   "source": [
    "`% operators`"
   ]
  },
  {
   "cell_type": "code",
   "execution_count": 10,
   "id": "9e5061fd-2be2-49b9-97b1-e177187254bd",
   "metadata": {},
   "outputs": [
    {
     "name": "stdout",
     "output_type": "stream",
     "text": [
      "Hello, Quang Teo\n"
     ]
    }
   ],
   "source": [
    "name1 = \"Quang\"\n",
    "name2 = \"Teo\"\n",
    "print( \"Hello, %s %s\" % (name1, name2) )"
   ]
  },
  {
   "cell_type": "markdown",
   "id": "82b7e3b8-b244-4b16-8a6a-a8cbb7e0de1b",
   "metadata": {},
   "source": [
    "#### 2.2.5 SAI LẦM ROUND"
   ]
  },
  {
   "cell_type": "code",
   "execution_count": 12,
   "id": "09825283-ac35-4ee0-a214-4b0d4452eaac",
   "metadata": {},
   "outputs": [
    {
     "name": "stdout",
     "output_type": "stream",
     "text": [
      "2\n",
      "4\n"
     ]
    }
   ],
   "source": [
    "# Ai cũng nghĩ >.5 sẽ làm tròn lên \n",
    "print(round(2.5))\n",
    "print(round(3.5))"
   ]
  },
  {
   "cell_type": "code",
   "execution_count": 13,
   "id": "3a03572e-e215-4162-854e-1f8a1b64ff7e",
   "metadata": {},
   "outputs": [
    {
     "name": "stdout",
     "output_type": "stream",
     "text": [
      "4\n",
      "6\n"
     ]
    }
   ],
   "source": [
    "print(round(4.5))\n",
    "print(round(5.5))"
   ]
  },
  {
   "cell_type": "code",
   "execution_count": 14,
   "id": "1f654325-6e4a-4a84-973d-737d1bd223df",
   "metadata": {},
   "outputs": [
    {
     "name": "stdout",
     "output_type": "stream",
     "text": [
      "6\n",
      "8\n"
     ]
    }
   ],
   "source": [
    "print(round(6.5))\n",
    "print(round(7.6))"
   ]
  },
  {
   "cell_type": "markdown",
   "id": "ea15dda3-6508-43a5-8233-665e178111c2",
   "metadata": {},
   "source": [
    "NOTE: \"Chẵn làm tròn xuống, lẻ làm tròn lên\""
   ]
  },
  {
   "cell_type": "code",
   "execution_count": 4,
   "id": "43c5d431-e58d-40a6-b39d-1856cca582a7",
   "metadata": {},
   "outputs": [],
   "source": [
    "def my_round(x):\n",
    "    return int(x) + int(x - int(x) >= 0.5)"
   ]
  },
  {
   "cell_type": "code",
   "execution_count": 7,
   "id": "1abe3a37-7c45-484b-a356-f6151e1576eb",
   "metadata": {},
   "outputs": [
    {
     "data": {
      "text/plain": [
       "5"
      ]
     },
     "execution_count": 7,
     "metadata": {},
     "output_type": "execute_result"
    }
   ],
   "source": [
    "my_round(4.6)"
   ]
  },
  {
   "cell_type": "markdown",
   "id": "b09fe5a2-7dd8-4a71-b19b-b13c81fa54f9",
   "metadata": {},
   "source": [
    "## 3. FUNCTION"
   ]
  },
  {
   "cell_type": "markdown",
   "id": "5c73f894-b66a-4ad2-8f2c-1cb41ba4646a",
   "metadata": {},
   "source": [
    "### 3.1 Scope of variable"
   ]
  },
  {
   "cell_type": "code",
   "execution_count": 10,
   "id": "7b5ca7a4-cfe4-4822-b5e1-801adb25e8a2",
   "metadata": {},
   "outputs": [],
   "source": [
    "l = []\n",
    "\n",
    "def inc():\n",
    "    l.append(2)"
   ]
  },
  {
   "cell_type": "code",
   "execution_count": 11,
   "id": "05eaf63d-0d7b-4663-9e52-a78aa6185005",
   "metadata": {},
   "outputs": [],
   "source": [
    "inc()"
   ]
  },
  {
   "cell_type": "code",
   "execution_count": 12,
   "id": "2450f9b3-1eb3-4fa7-9e4a-5b251e3d45f7",
   "metadata": {},
   "outputs": [
    {
     "data": {
      "text/plain": [
       "[2]"
      ]
     },
     "execution_count": 12,
     "metadata": {},
     "output_type": "execute_result"
    }
   ],
   "source": [
    "l"
   ]
  },
  {
   "cell_type": "code",
   "execution_count": 39,
   "id": "9b0a35b9-c5af-4d9b-b90f-de21ead7cf65",
   "metadata": {},
   "outputs": [],
   "source": [
    "g = 5\n",
    "\n",
    "def inc():\n",
    "    global g\n",
    "    g = g + 2"
   ]
  },
  {
   "cell_type": "code",
   "execution_count": 40,
   "id": "110072ca-020c-4a95-a9e4-54a8ce05c303",
   "metadata": {},
   "outputs": [],
   "source": [
    "inc()"
   ]
  },
  {
   "cell_type": "code",
   "execution_count": 41,
   "id": "8c355e3b-5c2c-4191-8deb-dd0b2860b7d8",
   "metadata": {},
   "outputs": [
    {
     "name": "stdout",
     "output_type": "stream",
     "text": [
      "7\n"
     ]
    }
   ],
   "source": [
    "print(g)"
   ]
  },
  {
   "cell_type": "code",
   "execution_count": null,
   "id": "47a56b0e-9e7a-4a8b-86cd-f074ea8045f6",
   "metadata": {},
   "outputs": [],
   "source": []
  },
  {
   "cell_type": "markdown",
   "id": "2ff5443b-df39-4163-aaff-1f2979c3e8ef",
   "metadata": {},
   "source": [
    "### 3.2 LAMBDA FUNCTION"
   ]
  },
  {
   "cell_type": "code",
   "execution_count": 32,
   "id": "84572a5b-cf9e-4b83-a169-e638f0c323ca",
   "metadata": {},
   "outputs": [],
   "source": [
    "def is_chan(x):\n",
    "    return x % 2 == 0"
   ]
  },
  {
   "cell_type": "code",
   "execution_count": 33,
   "id": "5bf89ccf-3287-4f29-8ce6-128749f5fddf",
   "metadata": {},
   "outputs": [],
   "source": [
    "chan_v1 = is_chan"
   ]
  },
  {
   "cell_type": "code",
   "execution_count": 34,
   "id": "a75ce68d-68e5-4020-b682-f324e7ed0f8f",
   "metadata": {},
   "outputs": [
    {
     "data": {
      "text/plain": [
       "False"
      ]
     },
     "execution_count": 34,
     "metadata": {},
     "output_type": "execute_result"
    }
   ],
   "source": [
    "chan_v1(3)"
   ]
  },
  {
   "cell_type": "code",
   "execution_count": null,
   "id": "8225cc9c-b177-4e59-b0ff-f2584fcb1ae9",
   "metadata": {},
   "outputs": [],
   "source": []
  },
  {
   "cell_type": "code",
   "execution_count": 36,
   "id": "683e342c-5359-4d39-a063-8c89b7616a17",
   "metadata": {},
   "outputs": [],
   "source": [
    "chan_v2 = (lambda x : x % 2 == 0)"
   ]
  },
  {
   "cell_type": "code",
   "execution_count": 37,
   "id": "40a74db9-022c-430c-9067-a7460f5b86c6",
   "metadata": {},
   "outputs": [
    {
     "data": {
      "text/plain": [
       "True"
      ]
     },
     "execution_count": 37,
     "metadata": {},
     "output_type": "execute_result"
    }
   ],
   "source": [
    "chan_v2(2)"
   ]
  },
  {
   "cell_type": "code",
   "execution_count": 38,
   "id": "43b11d81-c68f-498f-9d24-d0d657309c58",
   "metadata": {},
   "outputs": [
    {
     "data": {
      "text/plain": [
       "False"
      ]
     },
     "execution_count": 38,
     "metadata": {},
     "output_type": "execute_result"
    }
   ],
   "source": [
    "chan_v2(3)"
   ]
  },
  {
   "cell_type": "code",
   "execution_count": 40,
   "id": "ed131532-b7e3-49a7-89ae-aafd933b0cc6",
   "metadata": {},
   "outputs": [
    {
     "data": {
      "text/plain": [
       "True"
      ]
     },
     "execution_count": 40,
     "metadata": {},
     "output_type": "execute_result"
    }
   ],
   "source": [
    "(lambda input_x : input_x % 2 == 0)(2)"
   ]
  },
  {
   "cell_type": "code",
   "execution_count": 41,
   "id": "3582effa-7193-45a6-a5a8-c6991807bb70",
   "metadata": {},
   "outputs": [
    {
     "data": {
      "text/plain": [
       "False"
      ]
     },
     "execution_count": 41,
     "metadata": {},
     "output_type": "execute_result"
    }
   ],
   "source": [
    "(lambda x : x % 2 == 0)(3)"
   ]
  },
  {
   "cell_type": "code",
   "execution_count": null,
   "id": "435a2347-32f9-4d43-9973-14aac78348dc",
   "metadata": {},
   "outputs": [],
   "source": [
    "sorted"
   ]
  },
  {
   "cell_type": "code",
   "execution_count": null,
   "id": "e99893de-2bb7-4af9-b330-3e86681d6179",
   "metadata": {},
   "outputs": [],
   "source": [
    "filter()"
   ]
  },
  {
   "cell_type": "code",
   "execution_count": null,
   "id": "1dea95ea-652c-43d8-a7e4-ec2b08152e06",
   "metadata": {},
   "outputs": [],
   "source": [
    "map()"
   ]
  },
  {
   "cell_type": "markdown",
   "id": "7e68480f-795a-4cb1-8db0-1ab7dd175e88",
   "metadata": {},
   "source": [
    "### 3.3 INTERN"
   ]
  },
  {
   "cell_type": "code",
   "execution_count": 25,
   "id": "1d54292b-42f8-4ab9-a108-952d42658161",
   "metadata": {},
   "outputs": [],
   "source": [
    "a = 200\n",
    "b = 200"
   ]
  },
  {
   "cell_type": "code",
   "execution_count": 26,
   "id": "8f0d5b87-5d83-4ffe-95f7-f7316c7ad636",
   "metadata": {},
   "outputs": [
    {
     "name": "stdout",
     "output_type": "stream",
     "text": [
      "140722460770416\n",
      "140722460770416\n"
     ]
    }
   ],
   "source": [
    "print(id(a))\n",
    "print(id(b))"
   ]
  },
  {
   "cell_type": "code",
   "execution_count": 1,
   "id": "d3c54735-271f-4ada-b69c-fca274680298",
   "metadata": {},
   "outputs": [],
   "source": [
    "a = 500\n",
    "b = 500"
   ]
  },
  {
   "cell_type": "code",
   "execution_count": 2,
   "id": "4bf820b7-2b79-4eee-9925-09d0025e4f2f",
   "metadata": {},
   "outputs": [
    {
     "name": "stdout",
     "output_type": "stream",
     "text": [
      "2352228583600\n",
      "2352228583440\n"
     ]
    }
   ],
   "source": [
    "print(id(a))\n",
    "print(id(b))"
   ]
  },
  {
   "cell_type": "markdown",
   "id": "2c219674-e510-40f4-8017-1e5e881b39fd",
   "metadata": {},
   "source": [
    "## 4. EXERCISE"
   ]
  },
  {
   "cell_type": "markdown",
   "id": "b8a9dee3-b5d4-4840-a314-be9b2c254f53",
   "metadata": {},
   "source": [
    "### 4.1 BTVN"
   ]
  },
  {
   "cell_type": "markdown",
   "id": "bb035e61-e36b-4dbd-9a68-fd9d65c931f2",
   "metadata": {},
   "source": [
    "### 4.2 BT thêm"
   ]
  },
  {
   "cell_type": "markdown",
   "id": "d968e43d-62bc-4f99-863c-bed27054ad66",
   "metadata": {},
   "source": [
    "#### Tìm số trung gian trong 3 số"
   ]
  },
  {
   "cell_type": "code",
   "execution_count": null,
   "id": "02f88cb8-ed72-442e-a332-06b5de9b4b25",
   "metadata": {},
   "outputs": [],
   "source": []
  },
  {
   "cell_type": "code",
   "execution_count": 57,
   "id": "36a3da86-7710-4d8e-8965-0a5b03444e82",
   "metadata": {},
   "outputs": [
    {
     "name": "stdout",
     "output_type": "stream",
     "text": [
      "5  là số trung gian\n"
     ]
    }
   ],
   "source": [
    "a = 3\n",
    "b = 7\n",
    "c = 5\n"
   ]
  },
  {
   "cell_type": "code",
   "execution_count": null,
   "id": "95444ce5-82c1-4d8c-8254-ffb399f2aea0",
   "metadata": {},
   "outputs": [],
   "source": [
    "\n",
    "# #Cách 1\n",
    "# if (b >= a and a >= c) or (c >= a and a >= b):\n",
    "#     print(a, \" là số trung gian\")\n",
    "# elif (a >= b and b >= c) or (a <= b and b <= c):\n",
    "#     print(b, \" là số trung gian\")\n",
    "# else:\n",
    "#     print(c, \" là số trung gian\")\n",
    "\n",
    "# #Cách 2\n",
    "# if a > b and b > c:\n",
    "#     print(b, \" là số trung gian\")\n",
    "# elif b > a and a > c:\n",
    "#     print(a, \" là số trung gian\")\n",
    "# else:\n",
    "#     print(c, \" là số trung gian\")\n",
    "\n",
    "#Cách 3\n",
    "print(a + b + c - min(a,b,c) - max(a,b,c), \" là số trung gian\")\n",
    "\n",
    "# #...a"
   ]
  },
  {
   "cell_type": "code",
   "execution_count": 59,
   "id": "6a23c369-396a-45b8-bae7-41c3e98ab87f",
   "metadata": {},
   "outputs": [],
   "source": [
    "def so_trung_gian(a, b, c):\n",
    "    #Cách 2\n",
    "    if a > b and b > c:\n",
    "        return b\n",
    "    elif b > a and a > c:\n",
    "        return a\n",
    "    \n",
    "    return c"
   ]
  },
  {
   "cell_type": "code",
   "execution_count": 60,
   "id": "a195efce-a97d-4417-944c-c53f8fb38e7f",
   "metadata": {},
   "outputs": [
    {
     "data": {
      "text/plain": [
       "3"
      ]
     },
     "execution_count": 60,
     "metadata": {},
     "output_type": "execute_result"
    }
   ],
   "source": [
    "so_trung_gian(3, 6, 2)"
   ]
  },
  {
   "cell_type": "markdown",
   "id": "913eb0cd-b8bb-4e35-8847-554453bfc774",
   "metadata": {},
   "source": [
    "#### Giải phương trình bậc 2"
   ]
  },
  {
   "cell_type": "code",
   "execution_count": 58,
   "id": "e46cfbb5-9690-492b-b77f-1b2dd63c8a84",
   "metadata": {},
   "outputs": [
    {
     "name": "stdout",
     "output_type": "stream",
     "text": [
      "x1 = 1.4142135623730951\n",
      "x2 = -1.4142135623730951\n"
     ]
    }
   ],
   "source": [
    "a = 1\n",
    "b = 0\n",
    "c = -2\n",
    "\n",
    "if a == 0:\n",
    "    if b == 0:\n",
    "        if c == 0:\n",
    "            print(\"Vô số nghiệm!\")\n",
    "        else:\n",
    "            print(\"Vô nghiệm!\")\n",
    "    else:\n",
    "        print(\"x =\", -c/b)\n",
    "else:\n",
    "    delta = b*b-4*a*c\n",
    "    if delta < 0:\n",
    "        print(\"Vô nghiệm!\")\n",
    "    elif delta == 0:\n",
    "        print(\"x =\", -b/(2*a))\n",
    "    else:\n",
    "        print(\"x1 =\", (-b + delta**0.5)/(2*a))\n",
    "        print(\"x2 =\", (-b - delta**0.5)/(2*a))"
   ]
  },
  {
   "cell_type": "code",
   "execution_count": 61,
   "id": "1d90464f-d20a-430f-afb1-ea634389bbad",
   "metadata": {},
   "outputs": [],
   "source": [
    "def find_solution_equation_2(a, b, c):\n",
    "    if a == 0:\n",
    "        if b == 0:\n",
    "            if c == 0:\n",
    "                print(\"Vô số nghiệm!\")\n",
    "            else:\n",
    "                print(\"Vô nghiệm!\")\n",
    "        else:\n",
    "            print(\"x =\", -c/b)\n",
    "    else:\n",
    "        delta = b*b-4*a*c\n",
    "        if delta < 0:\n",
    "            print(\"Vô nghiệm!\")\n",
    "        elif delta == 0:\n",
    "            print(\"x =\", -b/(2*a))\n",
    "        else:\n",
    "            print(\"x1 =\", (-b + delta**0.5)/(2*a))\n",
    "            print(\"x2 =\", (-b - delta**0.5)/(2*a))"
   ]
  },
  {
   "cell_type": "code",
   "execution_count": 62,
   "id": "c48db3d6-3717-4f48-9e9d-09e9b7ba0edb",
   "metadata": {},
   "outputs": [
    {
     "name": "stdout",
     "output_type": "stream",
     "text": [
      "x1 = 1.4142135623730951\n",
      "x2 = -1.4142135623730951\n"
     ]
    }
   ],
   "source": [
    "find_solution_equation_2(1, 0, -2)"
   ]
  },
  {
   "cell_type": "code",
   "execution_count": null,
   "id": "8de5aea9-1956-4e72-81c2-ae4f388f0d3c",
   "metadata": {},
   "outputs": [],
   "source": []
  }
 ],
 "metadata": {
  "kernelspec": {
   "display_name": "Python 3",
   "language": "python",
   "name": "python3"
  },
  "language_info": {
   "codemirror_mode": {
    "name": "ipython",
    "version": 3
   },
   "file_extension": ".py",
   "mimetype": "text/x-python",
   "name": "python",
   "nbconvert_exporter": "python",
   "pygments_lexer": "ipython3",
   "version": "3.8.10"
  }
 },
 "nbformat": 4,
 "nbformat_minor": 5
}
